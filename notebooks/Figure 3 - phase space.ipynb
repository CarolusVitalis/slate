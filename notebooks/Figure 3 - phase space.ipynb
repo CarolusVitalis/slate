{
 "cells": [
  {
   "cell_type": "markdown",
   "metadata": {},
   "source": [
    "# Analysis of context effects on synthetic gene expression\n",
    "\n",
    "In this example we study the effects of compositional and cellular context on gene expression using triple reporter plasmids. See paper (REF) for details of plasmid composition. In summary, each plasmid contains three transcription units producing RFP, YFP and CFP. The CFP TU is maintained the same in all plasmids, but the promoter of the RFP and YFP TUs is changed, generating 14 different combinations or contexts with a common reference gene.\n",
    "\n",
    "First lets import the packages that we need, including the Flapjack API, and set some parameters for plotting with matplotlib:"
   ]
  },
  {
   "cell_type": "code",
   "execution_count": null,
   "metadata": {},
   "outputs": [],
   "source": [
    "from flapjack_api import FlapjackSession, layout_print, load_figures, replace_array_columns\n",
    "import numpy as np\n",
    "import matplotlib\n",
    "from matplotlib import pyplot as plt\n",
    "import plotly\n",
    "import plotly.express as px\n",
    "from plotly.subplots import make_subplots\n",
    "import plotly.graph_objects as go\n",
    "import plotly.io as io\n",
    "import json\n",
    "import pandas as pd\n",
    "import seaborn as sns\n",
    "import getpass\n",
    "%matplotlib inline\n",
    "\n",
    "SMALL_SIZE = 12\n",
    "MEDIUM_SIZE = 10\n",
    "BIGGER_SIZE = 12\n",
    "\n",
    "plt.rc('font', size=SMALL_SIZE)          # controls default text sizes\n",
    "plt.rc('axes', titlesize=SMALL_SIZE)     # fontsize of the axes title\n",
    "plt.rc('axes', labelsize=SMALL_SIZE)    # fontsize of the x and y labels\n",
    "plt.rc('xtick', labelsize=SMALL_SIZE)    # fontsize of the tick labels\n",
    "plt.rc('ytick', labelsize=SMALL_SIZE)    # fontsize of the tick labels\n",
    "plt.rc('legend', fontsize=SMALL_SIZE)    # legend fontsize\n",
    "plt.rc('figure', titlesize=SMALL_SIZE)  # fontsize of the figure title\n",
    "\n",
    "io.orca.shutdown_server()"
   ]
  },
  {
   "cell_type": "markdown",
   "metadata": {},
   "source": [
    "## Plotting the data\n",
    "Using the Flapjack webapp, filter the data to select the study \"Phase space\" (** update name), and then choose the DNA (plasmid) named \"pAAA\". To compare between measurements we can group the data by DNA (tabs), DNA (subplots), and \"Name\" (lines). In order to compare different data with various magnitudes we normalize, here by the min/max of the measurements for each sample, by selecting from the dropdown menu. Now click the \"View\" button to see the plots. These plots look nice in the web interface, but for publication or reports we can format them better using Plotly. Here we format the figure to be half the width of a 1-column figure (1.65 inches wide) and 6pt font. To do this click \"Figure (JSON)\" to download the figure as a JSON file, and load it in the cell below by choosing the correct file name:"
   ]
  },
  {
   "cell_type": "code",
   "execution_count": null,
   "metadata": {
    "scrolled": true
   },
   "outputs": [],
   "source": [
    "figs = load_figures('pAAA_raw_data_normalized.json')\n",
    "fig = figs['pAAA']\n",
    "layout_print(fig, width=3.3/2, aspect=1.5, font_size=6)\n",
    "fig.update_yaxes(title='Measurement')\n",
    "fig.update_traces(showlegend=False, selector=dict(fill='toself'))\n",
    "fig.update_traces(line=dict(color='#ff0000'), selector=dict(name='RFP'))\n",
    "fig.update_traces(line=dict(color='#ffff00'), selector=dict(name='YFP'))\n",
    "fig.update_traces(line=dict(color='#00ffff'), selector=dict(name='CFP'))\n",
    "fig.update_traces(line=dict(color='#000000'), selector=dict(name='OD'))\n",
    "fig.show()"
   ]
  },
  {
   "cell_type": "markdown",
   "metadata": {},
   "source": [
    "## Plotting the expression rate of each TU\n",
    "To analyze the behaviour of the TUs in more detail we can compute the expression rate (or synthesis rate) of the reporters. To do this, go to the analysis form. Choose \"Expression rate (direct)\". This implements the linear inversion method of NAME et al. (REF). Choose the degradation rate of the protein as 0 (stable protein) and the density name as \"OD\" (this is the biomass for normalization). Then click the analyze button to produce the plot. Again we can save the plot as JSON and reformat here in the notebook:"
   ]
  },
  {
   "cell_type": "code",
   "execution_count": null,
   "metadata": {},
   "outputs": [],
   "source": [
    "figs = load_figures('pAAA_expr_rate_direct_normalized.json')\n",
    "fig = figs['pAAA']\n",
    "layout_print(fig, width=3.3/2, aspect=1.5, font_size=6.)\n",
    "fig.update_yaxes(title='Expression rate')\n",
    "fig.update_traces(showlegend=False, selector=dict(fill='toself'))\n",
    "fig.update_traces(line=dict(color='#ff0000'), selector=dict(name='RFP'))\n",
    "fig.update_traces(line=dict(color='#ffff00'), selector=dict(name='YFP'))\n",
    "fig.update_traces(line=dict(color='#00ffff'), selector=dict(name='CFP'))\n",
    "fig.update_traces(line=dict(color='#000000'), selector=dict(name='OD'))\n",
    "fig.show()"
   ]
  },
  {
   "cell_type": "markdown",
   "metadata": {},
   "source": [
    "## Summarizing dynamics with mean expression rates\n",
    "As a first approach to the overall dynamics of a genetic circuit is to take the mean level of expression, as approximated by the signal detected in the assay. This allows us to compare the average rates of gene expression"
   ]
  },
  {
   "cell_type": "code",
   "execution_count": null,
   "metadata": {},
   "outputs": [],
   "source": [
    "user = input()\n",
    "passwd = getpass.getpass()\n",
    "session = FlapjackSession('http://localhost:8989', user, passwd)"
   ]
  },
  {
   "cell_type": "code",
   "execution_count": null,
   "metadata": {},
   "outputs": [],
   "source": [
    "filter = { \n",
    "          'study': ['Context effects'],\n",
    "            'remove_data': False,\n",
    "          'normalize': 'off',\n",
    "          'averaging': 'None',\n",
    "          'density_name': 'OD',\n",
    "            'ref_name': 'CFP'\n",
    "         }\n",
    "exp,s = session.get_mean_expression_rate_ratio(filter)\n",
    "exp.head()\n",
    "exp = replace_array_columns(exp)"
   ]
  },
  {
   "cell_type": "markdown",
   "metadata": {},
   "source": [
    "Create a heatmap of gene expression in each condition by pivoting the dataframe:"
   ]
  },
  {
   "cell_type": "code",
   "execution_count": null,
   "metadata": {},
   "outputs": [],
   "source": [
    "fig,ax = plt.subplots(2,1, figsize=(6,4), sharex=True)\n",
    "df_c = exp[exp['name']=='CFP'].copy()\n",
    "for name,i in zip(['RFP', 'YFP'], np.arange(0,2)):\n",
    "    df_x = exp[exp['name']==name].copy()\n",
    "    df_heatmap = df_x.pivot_table(values='value',\n",
    "                                index=['sample__strain__name', 'sample__media__name'],\n",
    "                                columns='sample__dna__names', aggfunc=np.mean)\n",
    "    # Normalize to mean of columns\n",
    "    df_heatmap = df_heatmap / df_heatmap.mean()\n",
    "    # Normalize rows to mean\n",
    "    #df_heatmap = df_heatmap.div( df_heatmap.mean(axis=1), axis=0 )\n",
    "    # Take log of normalized values\n",
    "    df_heatmap = df_heatmap.apply(np.log2)\n",
    "    # Plot heatmap\n",
    "    sns.heatmap(df_heatmap, annot=False, ax=ax[i], \n",
    "                square=True, \n",
    "                cmap='bwr', fmt='0.1f', \n",
    "                center=0, \n",
    "                vmin=-1.2, vmax=1.2, \n",
    "                linewidths=0.5, linecolor='black')\n",
    "    # Format plot\n",
    "    bottom, top = ax[i].get_ylim()\n",
    "    ax[i].set_ylim(bottom + 0.5, top - 0.5)\n",
    "    ax[i].set_title(name)\n",
    "    ax[i].set_xlabel('')\n",
    "    ax[i].set_ylabel('')\n",
    "    #plt.tight_layout()\n",
    "    plt.subplots_adjust(hspace=0.2)\n",
    "    plt.xticks(rotation=90)\n",
    "    plt.title(name)\n",
    "plt.savefig('heatmap_rpus.png', dpi=300, bbox_inches='tight')"
   ]
  },
  {
   "cell_type": "markdown",
   "metadata": {},
   "source": [
    "## Using SynbioHub to compare compositional contexts\n",
    "\n",
    "First get the DNAs in the study:"
   ]
  },
  {
   "cell_type": "code",
   "execution_count": null,
   "metadata": {},
   "outputs": [],
   "source": [
    "session = FlapjackSession('http://synbio.ing.puc.cl:8989', 'timrudge', 'chicken')\n",
    "filter = { \n",
    "          'study': ['Context effects']\n",
    "         }\n",
    "\n",
    "dnas,s = session.get_dnas(filter)"
   ]
  },
  {
   "cell_type": "markdown",
   "metadata": {},
   "source": [
    "Next we query SynbioHub to get the part composition and add this to our dataframe. We are interested in the identity of the RFP and CFP TUs, which are encoded as \"engineered regions\":"
   ]
  },
  {
   "cell_type": "code",
   "execution_count": null,
   "metadata": {},
   "outputs": [],
   "source": [
    "from sbol import *\n",
    "\n",
    "# Some nicer names for display purposes\n",
    "TU_names = {\n",
    "    'TU1_1': 'A',\n",
    "    'TU1_2': 'B',\n",
    "    'TU1_5': 'E',\n",
    "    'TU1_8': 'G',\n",
    "    \n",
    "    'TU2_1': 'A',\n",
    "    'TU2_3': 'C',\n",
    "    'TU2_5': 'E',\n",
    "    'TU2_6': 'D',\n",
    "    'TU2_7': 'F',\n",
    "}\n",
    "\n",
    "# The URI of \"Engineered region\" used to encode the TUs\n",
    "TU_role = 'http://identifiers.org/so/SO:0000804'\n",
    "\n",
    "df = exp.copy()\n",
    "\n",
    "synbiouc = PartShop('http://synbio.ing.puc.cl:7777')\n",
    "\n",
    "result = pd.DataFrame()\n",
    "rows_to_add = []\n",
    "for idx,dna in dnas.iterrows():\n",
    "    dna_string = ' + '.join(dna['names'])\n",
    "    data = df.loc[df['sample__dna__names']==dna_string]\n",
    "    sboluris = dna['sboluris']\n",
    "    # We know there is just one SBOL URI because there is only one plasmid\n",
    "    sboluri = sboluris[0]\n",
    "    if sboluri!='none':\n",
    "        # Create a new SBOL document\n",
    "        doc = Document()\n",
    "        synbiouc.pull(sboluri, doc)\n",
    "        plasmid = doc.componentDefinitions[sboluri]\n",
    "        composition = plasmid.getPrimaryStructure()\n",
    "        TUs = [component.displayId for component in composition \\\n",
    "                       if TU_role in component.roles]\n",
    "        # The first TU is the RFP TU\n",
    "        data['rfp_tu'] = TU_names[TUs[0]]\n",
    "        # The second TU is the YFP TU\n",
    "        data['yfp_tu'] = TU_names[TUs[1]]\n",
    "        rows_to_add.append(data)\n",
    "\n",
    "df = result.append(rows_to_add)\n",
    "\n",
    "# Save data to JSON for later analysis\n",
    "df.to_json('phase_space_ratio_of_mean_expression_rates.json')\n",
    "\n",
    "df.head()"
   ]
  },
  {
   "cell_type": "markdown",
   "metadata": {},
   "source": [
    "Now we can make heatmaps to compare the mean expression rate ratio of each TU in its different compositional contexts. To do this we pivot the table to have the YFP TU name along the x-axis and the RFP-TU along the y-axis. In order to see the effect of context irrespetive of the overall magnitude of expression, we normalize by the mean of the rows of the heatmap for RFP and the columns for YFP. We then take the log base 2 to see the fold change over the mean. In this way we expect the heatmap to be uniformly zero if there are no context effects."
   ]
  },
  {
   "cell_type": "code",
   "execution_count": null,
   "metadata": {},
   "outputs": [],
   "source": [
    "grouped_media = df.groupby('sample__media__name')\n",
    "for media,media_data in grouped_media:\n",
    "    grouped_strain = media_data.groupby('sample__strain__name')\n",
    "    for strain,df in grouped_strain:\n",
    "        fig,ax = plt.subplots(1,2, figsize=(6.7,2.75), sharex=False, sharey=False)\n",
    "        cbar_ax = fig.add_axes([0.91, .1, .03, .75])\n",
    "        df_c = df[df['name']=='CFP']\n",
    "        for name,i in zip(['RFP', 'YFP'], np.arange(0,2)):\n",
    "            df_x = df[df['name']==name].copy(deep=True)\n",
    "            df_heatmap = df_x.pivot_table(values='value',\n",
    "                                            index='rfp_tu',\n",
    "                                            columns='yfp_tu', aggfunc=np.mean)\n",
    "            if name=='YFP':\n",
    "                # Normalize columns to mean\n",
    "                df_heatmap = df_heatmap / df_heatmap.mean()\n",
    "            else:\n",
    "                # Normalize rows to mean\n",
    "                df_heatmap = df_heatmap.div( df_heatmap.mean(axis=1), axis=0 )\n",
    "            \n",
    "            # Take log of normalized values\n",
    "            df_heatmap = df_heatmap.apply(np.log2)\n",
    "                \n",
    "            g = sns.heatmap(df_heatmap, annot=True, ax=ax[i], \n",
    "                        square=True, fmt='0.1f', cmap='bwr', \n",
    "                        center=0, vmin=-3., vmax=3., linewidths=1, linecolor='black',\n",
    "                        cbar=(i==1), cbar_ax=cbar_ax)\n",
    "            g.set_facecolor('gray')\n",
    "            bottom, top = ax[i].get_ylim()\n",
    "            ax[i].set_title(name)\n",
    "            ax[i].set_ylim(bottom + 0.5, top - 0.5)\n",
    "            ax[i].set_xlabel('YFP TU')\n",
    "            if i==0:\n",
    "                ax[i].set_ylabel('RFP TU')\n",
    "            else:\n",
    "                ax[i].set_ylabel('')\n",
    "        #plt.tight_layout()\n",
    "        plt.subplots_adjust(hspace=0.2)\n",
    "        plt.suptitle(strain + ' in ' + media)\n",
    "        plt.savefig('heatmap_rpu_tu_'+media+'_'+strain+'.png', dpi=300)"
   ]
  },
  {
   "cell_type": "markdown",
   "metadata": {},
   "source": [
    "## Statistical analysis of context effects on gene expression"
   ]
  },
  {
   "cell_type": "code",
   "execution_count": null,
   "metadata": {
    "scrolled": false
   },
   "outputs": [],
   "source": [
    "import statsmodels as sm\n",
    "from statsmodels.formula.api import ols\n",
    "from statsmodels.stats.anova import anova_lm\n",
    "\n",
    "\n",
    "label_map = {\n",
    "    'C(sample__media__name)': 'Media',\n",
    "    'C(sample__strain__name)': 'Strain',\n",
    "    'C(rfp_tu)': 'RFP TU',\n",
    "    'C(yfp_tu)': 'YFP TU',\n",
    "    'C(rfp_tu):C(yfp_tu)': 'RFP/YFP TU',\n",
    "    'Residual': 'Other'\n",
    "}\n",
    "\n",
    "df = pd.read_json('phase_space_ratio_of_mean_expression_rates.json')\n",
    "\n",
    "#fig,ax = plt.subplots(1,2, figsize=(6.7,2.5))\n",
    "fig = make_subplots(1, 2, specs=[[{'type':'domain'}, {'type':'domain'}]])\n",
    "i = 0\n",
    "for name in ['RFP', 'YFP']:\n",
    "    data = df[df['name']==name].dropna()\n",
    "    #print(data.head())\n",
    "    results = ols('value ~ C(sample__media__name) \\\n",
    "                  + C(sample__strain__name) \\\n",
    "                  + C(rfp_tu) + C(yfp_tu) \\\n",
    "                  + C(rfp_tu):C(yfp_tu)', data=data).fit()\n",
    "    results.summary()\n",
    "\n",
    "    aov_table = anova_lm(results, typ=2)\n",
    "\n",
    "    ss_tot = aov_table['sum_sq'].sum()\n",
    "    #print(ss_tot)\n",
    "\n",
    "    aov_table['eta'] = aov_table['sum_sq'] / ss_tot *100\n",
    "\n",
    "    print(aov_table)\n",
    "\n",
    "    labels=[label_map[ind] for ind in aov_table.index]\n",
    "    #ax[i].pie(aov_table['eta']) #, labels=labels)\n",
    "    #plt.legend(labels)\n",
    "    #ax[i].set_title(name)\n",
    "    pie = go.Pie(labels=labels, values=aov_table['eta'])\n",
    "    fig.add_trace(pie, row=1, col=i+1)\n",
    "    i += 1\n",
    "    \n",
    "fig.update_traces(marker=dict(line=dict(color='#000000', width=1)))\n",
    "fig = layout_print(fig, width=3.3, aspect=2.5, font_size=6.)\n",
    "fig.show()\n"
   ]
  },
  {
   "cell_type": "markdown",
   "metadata": {},
   "source": [
    "## Effect of context on gene expression time dynamics"
   ]
  },
  {
   "cell_type": "code",
   "execution_count": null,
   "metadata": {},
   "outputs": [],
   "source": [
    "session = FlapjackSession('http://localhost:8989', 'timrudge', 'chicken2019')\n",
    "filter = { \n",
    "          'study': ['Context effects'],\n",
    "          'degr': 0.03,\n",
    "          'eps_L': 1e-7,\n",
    "            'remove_data': False,\n",
    "          'bg_correction': 2.,\n",
    "          'normalize': 'temporal_mean',\n",
    "          'averaging': 'mean',\n",
    "          'density_name': 'OD',\n",
    "            'groupby1': 'name',\n",
    "            'groupby2': 'name',\n",
    "            'groupby3': 'sample__dna__names'\n",
    "         }\n",
    "\n",
    "medias = [\n",
    "    ['M9-glucosa'], \n",
    "    ['M9-glicerol']\n",
    "]\n",
    "\n",
    "strains = [\n",
    "    ['MG1655z1'],\n",
    "    ['Top10']\n",
    "]"
   ]
  },
  {
   "cell_type": "code",
   "execution_count": null,
   "metadata": {},
   "outputs": [],
   "source": [
    "yfp_dnas = [\n",
    "    [['pBFA'], ['pEFA'], ['pGFA']],\n",
    "    [['pBDA'], ['pEDA'], ['pGDA']],\n",
    "    [['pBCA'], ['pECA'], ['pGCA']],\n",
    "    [['pAAA'], ['pBAA'], ['pEAA'], ['pGAA']]\n",
    "]\n",
    "\n",
    "# YFP figures\n",
    "for media in medias:\n",
    "    for strain in strains:\n",
    "        print(media, strain)\n",
    "        for dna in yfp_dnas:\n",
    "            filter['dna'] = dna\n",
    "            filter['media'] = media\n",
    "            filter['strain'] = strain\n",
    "            figs,s = session.plot_rate_direct(filter)\n",
    "            yfp = figs['YFP']\n",
    "            # Layout the figure better for our purposes\n",
    "            layout_print(yfp, width=3.3/2, aspect=1.25, font_size=6.)\n",
    "            yfp.update_yaxes(rangemode='tozero')\n",
    "            yfp.update_yaxes(title='Expression rate')\n",
    "            # Set the figure title\n",
    "            yfp['layout']['annotations'][0]['text'] = 'YFP'\n",
    "            yfp.show()\n",
    "            fname = '-'.join([media[0], strain[0], dna[0][0][2], 'YFP.png'])\n",
    "            io.write_image(yfp, fname, 'png')"
   ]
  },
  {
   "cell_type": "code",
   "execution_count": null,
   "metadata": {},
   "outputs": [],
   "source": [
    "rfp_dnas = [\n",
    "    [['pBAA'], ['pBCA'], ['pBDA'], ['pBFA']],\n",
    "    [['pEAA'], ['pECA'], ['pEDA'], ['pEFA']],\n",
    "    [['pGAA'], ['pGCA'], ['pGDA'], ['pGEA'], ['pGFA']]\n",
    "]\n",
    "\n",
    "# RFP figures\n",
    "for media in medias:\n",
    "    for strain in strains:\n",
    "        print(media, strain)\n",
    "        for dna in rfp_dnas:\n",
    "            filter['dna'] = dna\n",
    "            filter['media'] = media\n",
    "            filter['strain'] = strain\n",
    "            figs,s = session.plot_rate_direct(filter)\n",
    "            rfp = figs['RFP']\n",
    "            # Layout the figure better for our purposes\n",
    "            layout_print(rfp, width=3.3/2, aspect=1.25, font_size=6.)\n",
    "            rfp.update_yaxes(title='Expression rate')\n",
    "            rfp.update_yaxes(rangemode='tozero')\n",
    "            # Set the figure title\n",
    "            rfp['layout']['annotations'][0]['text'] = 'RFP'\n",
    "            rfp.show()\n",
    "            fname = '-'.join([media[0], strain[0], dna[0][0][1], 'RFP.png'])\n",
    "            print(fname)\n",
    "            io.write_image(rfp, fname, 'png')"
   ]
  },
  {
   "cell_type": "code",
   "execution_count": null,
   "metadata": {},
   "outputs": [],
   "source": [
    "# CFP figures\n",
    "for media in medias:\n",
    "    for strain in strains:\n",
    "        print(media, strain)\n",
    "        filter['dna'] = []\n",
    "        filter['media'] = media\n",
    "        filter['strain'] = strain\n",
    "        figs,s = session.plot_rate_direct(filter)\n",
    "        cfp = figs['CFP']\n",
    "        # Layout the figure better for our purposes\n",
    "        layout_print(cfp, width=3.3/2, aspect=1.25, font_size=6.)\n",
    "        cfp.update_yaxes(title='Expression rate')\n",
    "        cfp.update_yaxes(rangemode='tozero')\n",
    "        #cfp.update_traces(showlegend=False)\n",
    "        # Set the figure title\n",
    "        cfp['layout']['annotations'][0]['text'] = 'CFP'\n",
    "        cfp.show()\n",
    "        fname = '-'.join([media[0], strain[0], 'CFP.png'])\n",
    "        io.write_image(cfp, fname, 'png')"
   ]
  },
  {
   "cell_type": "code",
   "execution_count": null,
   "metadata": {},
   "outputs": [],
   "source": []
  }
 ],
 "metadata": {
  "kernelspec": {
   "display_name": "Python 3",
   "language": "python",
   "name": "python3"
  },
  "language_info": {
   "codemirror_mode": {
    "name": "ipython",
    "version": 3
   },
   "file_extension": ".py",
   "mimetype": "text/x-python",
   "name": "python",
   "nbconvert_exporter": "python",
   "pygments_lexer": "ipython3",
   "version": "3.7.7"
  }
 },
 "nbformat": 4,
 "nbformat_minor": 2
}

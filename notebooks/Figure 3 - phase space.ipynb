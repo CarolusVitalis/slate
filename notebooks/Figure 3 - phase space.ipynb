{
 "cells": [
  {
   "cell_type": "markdown",
   "metadata": {},
   "source": [
    "# Analysis of context effects on synthetic gene expression\n",
    "\n",
    "In this example we study the effects of compositional and cellular context on gene expression using triple reporter plasmids. See paper (REF) for details of plasmid composition. In summary, each plasmid contains three transcription units producing RFP, YFP and CFP. The CFP TU is maintained the same in all plasmids, but the promoter of the RFP and YFP TUs is changed, generating 14 different combinations or contexts with a common reference gene.\n",
    "\n",
    "First lets import the packages that we need, including the Flapjack API, and set some parameters for plotting with matplotlib:"
   ]
  },
  {
   "cell_type": "code",
   "execution_count": null,
   "metadata": {},
   "outputs": [],
   "source": [
    "import flapjack\n",
    "from flapjack import Flapjack\n",
    "import numpy as np\n",
    "import matplotlib\n",
    "from matplotlib import pyplot as plt\n",
    "import plotly\n",
    "import plotly.express as px\n",
    "from plotly.subplots import make_subplots\n",
    "import plotly.graph_objects as go\n",
    "import plotly.io as io\n",
    "import json\n",
    "import pandas as pd\n",
    "import seaborn as sns\n",
    "import getpass\n",
    "%matplotlib inline\n",
    "\n",
    "SMALL_SIZE = 6\n",
    "MEDIUM_SIZE = 10\n",
    "BIGGER_SIZE = 12\n",
    "\n",
    "plt.rc('font', size=SMALL_SIZE)          # controls default text sizes\n",
    "plt.rc('axes', titlesize=SMALL_SIZE)     # fontsize of the axes title\n",
    "plt.rc('axes', labelsize=SMALL_SIZE)    # fontsize of the x and y labels\n",
    "plt.rc('xtick', labelsize=SMALL_SIZE)    # fontsize of the tick labels\n",
    "plt.rc('ytick', labelsize=SMALL_SIZE)    # fontsize of the tick labels\n",
    "plt.rc('legend', fontsize=SMALL_SIZE)    # legend fontsize\n",
    "plt.rc('figure', titlesize=SMALL_SIZE)  # fontsize of the figure title\n",
    "\n",
    "io.orca.shutdown_server()"
   ]
  },
  {
   "cell_type": "markdown",
   "metadata": {},
   "source": [
    "## Plotting the data\n",
    "TODO: Change this to explain how to make the plot with the UI.\n",
    "\n",
    "Using the Flapjack webapp, filter the data to select the study \"Phase space\" (** update name), and then choose the DNA (plasmid) named \"pAAA\". To compare between measurements we can group the data by DNA (tabs), DNA (subplots), and \"Name\" (lines). In order to compare different data with various magnitudes we normalize, here by the min/max of the measurements for each sample, by selecting from the dropdown menu. Now click the \"View\" button to see the plots. These plots look nice in the web interface, but for publication or reports we can format them better using Plotly. Here we format the figure to be half the width of a 1-column figure (1.65 inches wide) and 6pt font. To do this click \"Figure (JSON)\" to download the figure as a JSON file, and load it in the cell below by choosing the correct file name:"
   ]
  },
  {
   "cell_type": "markdown",
   "metadata": {},
   "source": [
    "## Plotting the expression rate of each TU\n",
    "TO DO: Change this to explain how to make the plot with the UI.\n",
    "\n",
    "To analyze the behaviour of the TUs in more detail we can compute the expression rate (or synthesis rate) of the reporters. To do this, go to the analysis form. Choose \"Expression rate (direct)\". This implements the linear inversion method of NAME et al. (REF). Choose the degradation rate of the protein as 0 (stable protein) and the density name as \"OD\" (this is the biomass for normalization). Then click the analyze button to produce the plot. Again we can save the plot as JSON and reformat here in the notebook:"
   ]
  },
  {
   "cell_type": "markdown",
   "metadata": {},
   "source": [
    "## Summarizing dynamics with mean expression rates\n",
    "As a first approach to the overall dynamics of a genetic circuit is to take the mean level of expression, as approximated by the signal detected in the assay. This allows us to compare the average rates of gene expression"
   ]
  },
  {
   "cell_type": "code",
   "execution_count": null,
   "metadata": {},
   "outputs": [],
   "source": [
    "user = input()\n",
    "passwd = getpass.getpass()\n",
    "fj = Flapjack('3.128.232.8:8000')\n",
    "#fj = Flapjack('localhost:8000')\n",
    "fj.log_in(username=user, password=passwd)"
   ]
  },
  {
   "cell_type": "code",
   "execution_count": null,
   "metadata": {},
   "outputs": [],
   "source": [
    "od = fj.get('signal', name='OD')\n",
    "cfp = fj.get('signal', name='CFP')\n",
    "study = fj.get('study', name=['Context effects'])\n",
    "exp = fj.analysis(study=study.id,\n",
    "                    type='Mean Expression',\n",
    "                    biomass_signal=od.id[0],\n",
    "                    #ref_signal=cfp.id[0],\n",
    "                    #bounds = [[0,0,0,0], [1,2,2,24]]\n",
    "                    #bg_correction=2,\n",
    "                    #min_biomass=0.05,\n",
    "                    #remove_data=False\n",
    "                      )"
   ]
  },
  {
   "cell_type": "code",
   "execution_count": null,
   "metadata": {},
   "outputs": [],
   "source": [
    "nexp = pd.DataFrame()\n",
    "for samp, data in exp.groupby('Sample'):\n",
    "    yfp = data[data.Signal=='YFP']['Expression'].values\n",
    "    rfp = data[data.Signal=='RFP']['Expression'].values\n",
    "    cfp = data[data.Signal=='CFP']['Expression'].values\n",
    "    data.loc[data.Signal=='YFP', ['Expression']] = yfp/cfp\n",
    "    data.loc[data.Signal=='RFP', ['Expression']] = rfp/cfp\n",
    "    nexp = nexp.append(data)"
   ]
  },
  {
   "cell_type": "code",
   "execution_count": null,
   "metadata": {},
   "outputs": [],
   "source": [
    "nexp"
   ]
  },
  {
   "cell_type": "markdown",
   "metadata": {},
   "source": [
    "Create a heatmap of gene expression in each condition by pivoting the dataframe:"
   ]
  },
  {
   "cell_type": "code",
   "execution_count": null,
   "metadata": {},
   "outputs": [],
   "source": [
    "fig,ax = plt.subplots(2,1, figsize=(3.5,2.25), sharex=True)\n",
    "for i,name in enumerate(['RFP', 'YFP']):\n",
    "    df_x = nexp[nexp['Signal']==name].copy()\n",
    "    df_heatmap = df_x.pivot_table(values='Expression',\n",
    "                                index=['Strain', 'Media'],\n",
    "                                columns='Vector', aggfunc=np.mean)\n",
    "    # Normalize to mean of columns\n",
    "    df_heatmap = df_heatmap / df_heatmap.mean()\n",
    "    # Normalize rows to mean\n",
    "    #df_heatmap = df_heatmap.div( df_heatmap.mean(axis=1), axis=0 )\n",
    "    # Take log of normalized values\n",
    "    df_heatmap = df_heatmap.apply(np.log2)\n",
    "    \n",
    "    # Plot heatmap\n",
    "    sns.heatmap(df_heatmap, annot=False, ax=ax[i], \n",
    "                square=True, \n",
    "                cmap='bwr', \n",
    "                center=0,\n",
    "                #clim=[-1,1],\n",
    "                vmin=-1, vmax=1, \n",
    "                facecolor='gray',\n",
    "                linewidths=0.5, linecolor='black')\n",
    "    # Format plot\n",
    "    bottom, top = ax[i].get_ylim()\n",
    "    ax[i].set_ylim(bottom + 0.5, top - 0.5)\n",
    "    ax[i].set_title(name)\n",
    "    ax[i].set_xlabel('')\n",
    "    ax[i].set_ylabel('')\n",
    "    #plt.tight_layout()\n",
    "    plt.subplots_adjust(hspace=0.2)\n",
    "    plt.xticks(rotation=90)\n",
    "    plt.title(name)\n",
    "plt.tight_layout()\n",
    "plt.savefig('heatmap_rpus.png', dpi=300, bbox_inches='tight')"
   ]
  },
  {
   "cell_type": "markdown",
   "metadata": {},
   "source": [
    "## Using SynbioHub to compare compositional contexts\n",
    "\n",
    "First get the DNAs in the study:"
   ]
  },
  {
   "cell_type": "markdown",
   "metadata": {},
   "source": [
    "Next we query SynbioHub to get the part composition and add this to our dataframe. We are interested in the identity of the RFP and CFP TUs, which are encoded as \"engineered regions\":"
   ]
  },
  {
   "cell_type": "code",
   "execution_count": null,
   "metadata": {
    "scrolled": true
   },
   "outputs": [],
   "source": [
    "from sbol import *\n",
    "\n",
    "# Some nicer names for display purposes\n",
    "TU_names = {\n",
    "    'TU1_1': 'A',\n",
    "    'TU1_2': 'B',\n",
    "    'TU1_5': 'E',\n",
    "    'TU1_8': 'G',\n",
    "    \n",
    "    'TU2_1': 'A',\n",
    "    'TU2_3': 'C',\n",
    "    'TU2_5': 'E',\n",
    "    'TU2_6': 'D',\n",
    "    'TU2_7': 'F',\n",
    "}\n",
    "\n",
    "# The URI of \"Engineered region\" used to encode the TUs\n",
    "TU_role = 'http://identifiers.org/so/SO:0000804'\n",
    "\n",
    "df = nexp.copy()\n",
    "vectors = df.Vector.unique()\n",
    "\n",
    "synbiouc = PartShop('http://3.128.232.8:7777')\n",
    "\n",
    "result = pd.DataFrame()\n",
    "rows_to_add = []\n",
    "for vector in vectors:\n",
    "    vec = fj.get('vector', name=[vector])\n",
    "    dna_id = vec.dnas[0]\n",
    "    dna = fj.get('dna', id=[dna_id])\n",
    "    sboluri = dna.sboluri[0]\n",
    "    data = df[df.Vector==vec.name[0]]\n",
    "\n",
    "    if sboluri!='':\n",
    "        # Create a new SBOL document\n",
    "        doc = Document()\n",
    "        synbiouc.pull(sboluri, doc)\n",
    "        plasmid = doc.componentDefinitions[sboluri]\n",
    "        composition = plasmid.getPrimaryStructure()\n",
    "        TUs = [component.displayId for component in composition \\\n",
    "                       if TU_role in component.roles]\n",
    "        # The first TU is the RFP TU\n",
    "        data = data.assign(rfp_tu=TU_names[TUs[0]])\n",
    "        # The second TU is the YFP TU\n",
    "        data = data.assign(yfp_tu=TU_names[TUs[1]])\n",
    "        rows_to_add.append(data)\n",
    "    else:\n",
    "        print('No SBOL URI')\n",
    "\n",
    "df = result.append(rows_to_add)\n",
    "\n",
    "# Save data to JSON for later analysis\n",
    "df.to_json('context_effects.json')\n",
    "\n"
   ]
  },
  {
   "cell_type": "code",
   "execution_count": null,
   "metadata": {},
   "outputs": [],
   "source": [
    "np.any(np.isnan(df.Expression.values))"
   ]
  },
  {
   "cell_type": "markdown",
   "metadata": {},
   "source": [
    "Now we can make heatmaps to compare the mean expression rate ratio of each TU in its different compositional contexts. To do this we pivot the table to have the YFP TU name along the x-axis and the RFP-TU along the y-axis. In order to see the effect of context irrespetive of the overall magnitude of expression, we normalize by the mean of the rows of the heatmap for RFP and the columns for YFP. We then take the log base 2 to see the fold change over the mean. In this way we expect the heatmap to be uniformly zero if there are no context effects."
   ]
  },
  {
   "cell_type": "code",
   "execution_count": null,
   "metadata": {},
   "outputs": [],
   "source": [
    "df.Media.unique()"
   ]
  },
  {
   "cell_type": "code",
   "execution_count": null,
   "metadata": {},
   "outputs": [],
   "source": [
    "grouped_media = df.groupby('Media')\n",
    "for media,media_data in grouped_media:\n",
    "    grouped_strain = media_data.groupby('Strain')\n",
    "    for strain,df in grouped_strain:\n",
    "        fig,ax = plt.subplots(1,2, figsize=(3.3,1.4), sharex=False, sharey=False)\n",
    "        cbar_ax = fig.add_axes([0.91, .1, .03, .75])\n",
    "        df_c = df[df['Signal']=='CFP']\n",
    "        for name,i in zip(['RFP', 'YFP'], np.arange(0,2)):\n",
    "            df_x = df[df['Signal']==name].copy(deep=True)\n",
    "            df_heatmap = df_x.pivot_table(values='Expression',\n",
    "                                            index='rfp_tu',\n",
    "                                            columns='yfp_tu', aggfunc=np.mean)\n",
    "            if name=='YFP':\n",
    "                # Normalize columns to mean\n",
    "                df_heatmap = df_heatmap / df_heatmap.mean()\n",
    "            else:\n",
    "                # Normalize rows to mean\n",
    "                df_heatmap = df_heatmap.div( df_heatmap.mean(axis=1), axis=0 )\n",
    "            \n",
    "            # Take log of normalized values\n",
    "            df_heatmap = df_heatmap.apply(np.log2)\n",
    "                \n",
    "            g = sns.heatmap(df_heatmap, annot=True, ax=ax[i], \n",
    "                        square=True, fmt='0.1f', cmap='bwr', \n",
    "                        center=0, vmin=-3., vmax=3., linewidths=1, linecolor='black',\n",
    "                        cbar=(i==1), cbar_ax=cbar_ax)\n",
    "            g.set_facecolor('gray')\n",
    "            bottom, top = ax[i].get_ylim()\n",
    "            ax[i].set_title(name)\n",
    "            ax[i].set_ylim(bottom + 0.5, top - 0.5)\n",
    "            ax[i].set_xlabel('YFP TU')\n",
    "            if i==0:\n",
    "                ax[i].set_ylabel('RFP TU')\n",
    "            else:\n",
    "                ax[i].set_ylabel('')\n",
    "        #plt.tight_layout()\n",
    "        plt.subplots_adjust(bottom=0.3)\n",
    "        plt.suptitle(strain + ' in ' + media)\n",
    "        plt.savefig('heatmap_rpu_tu_'+media+'_'+strain+'.png', dpi=300)"
   ]
  },
  {
   "cell_type": "markdown",
   "metadata": {},
   "source": [
    "## Statistical analysis of context effects on gene expression"
   ]
  },
  {
   "cell_type": "code",
   "execution_count": null,
   "metadata": {
    "scrolled": false
   },
   "outputs": [],
   "source": [
    "import statsmodels as sm\n",
    "from statsmodels.formula.api import ols\n",
    "from statsmodels.stats.anova import anova_lm\n",
    "\n",
    "\n",
    "label_map = {\n",
    "    'C(Media)': 'Media',\n",
    "    'C(Strain)': 'Strain',\n",
    "    'C(rfp_tu)': 'RFP TU',\n",
    "    'C(yfp_tu)': 'YFP TU',\n",
    "    'C(rfp_tu):C(yfp_tu)': 'RFP/YFP TU',\n",
    "    'C(Vector)': 'Vector',\n",
    "    'Residual': 'Other'\n",
    "}\n",
    "\n",
    "df = nexp #pd.read_json('context_effects.json').dropna()\n",
    "\n",
    "#fig,ax = plt.subplots(1,2, figsize=(6.7,2.5))\n",
    "fig = make_subplots(1, 2, specs=[[{'type':'domain'}, {'type':'domain'}]])\n",
    "i = 0\n",
    "for name in ['RFP', 'YFP']:\n",
    "    data = df[df['Signal']==name]\n",
    "    #print(data.head())\n",
    "    results = ols('Expression ~ C(Media) \\\n",
    "                  + C(Strain) \\\n",
    "                  + C(Vector)', data=data).fit()\n",
    "    results.summary()\n",
    "\n",
    "    aov_table = anova_lm(results, typ=2)\n",
    "\n",
    "    ss_tot = aov_table['sum_sq'].sum()\n",
    "    #print(ss_tot)\n",
    "\n",
    "    aov_table['eta'] = aov_table['sum_sq'] / ss_tot *100\n",
    "\n",
    "    print(aov_table)\n",
    "\n",
    "    labels=[label_map[ind] for ind in aov_table.index]\n",
    "    #ax[i].pie(aov_table['eta']) #, labels=labels)\n",
    "    #plt.legend(labels)\n",
    "    #ax[i].set_title(name)\n",
    "    pie = go.Pie(labels=labels, values=aov_table['eta'])\n",
    "    fig.add_trace(pie, row=1, col=i+1)\n",
    "    i += 1\n",
    "    \n",
    "fig.show()\n"
   ]
  },
  {
   "cell_type": "code",
   "execution_count": null,
   "metadata": {},
   "outputs": [],
   "source": [
    "results.summary()"
   ]
  },
  {
   "cell_type": "markdown",
   "metadata": {},
   "source": [
    "## Effect of context on gene expression time dynamics"
   ]
  },
  {
   "cell_type": "code",
   "execution_count": null,
   "metadata": {},
   "outputs": [],
   "source": [
    "yfp_vectors = [\n",
    "    ['pBFA', 'pEFA', 'pGFA'],\n",
    "    ['pBDA', 'pEDA', 'pGDA'],\n",
    "    ['pBCA', 'pECA', 'pGCA'],\n",
    "    ['pAAA', 'pBAA', 'pEAA', 'pGAA']\n",
    "]\n",
    "yfp_vector_ids = [[fj.get('vector', name=name).id[0] for name in vecs] for vecs in yfp_vectors]\n",
    "yfp_id = fj.get('signal', name='YFP').id\n",
    "\n",
    "medias = ['M9-glucosa', 'M9-glicerol']\n",
    "strains = ['MG1655z1', 'Top10']\n",
    "\n",
    "# YFP figures\n",
    "for media in medias:\n",
    "    for strain in strains:\n",
    "        print(media, strain)\n",
    "        for vi,vector_id in enumerate(yfp_vector_ids):\n",
    "            media_id = fj.get('media', name=media).id\n",
    "            strain_id = fj.get('strain', name=strain).id\n",
    "            fig = fj.plot(study=study.id, \n",
    "                           vector=vector_id,\n",
    "                           media=media_id,\n",
    "                           strain=strain_id,\n",
    "                           signal=yfp_id,\n",
    "                           type='Expression Rate (indirect)',\n",
    "                           biomass_signal=od.id[0],\n",
    "                           pre_smoothing=11,\n",
    "                           post_smoothing=11,\n",
    "                            normalize='Temporal Mean', \n",
    "                            subplots='Signal', \n",
    "                            markers='Vector', \n",
    "                            plot='Mean')\n",
    "            fig = flapjack.layout_print(fig, width=1.65, height=1.25)\n",
    "            fname = '-'.join([media, strain, yfp_vectors[vi][0][2], 'YFP.png'])\n",
    "            io.write_image(fig, fname)"
   ]
  },
  {
   "cell_type": "code",
   "execution_count": null,
   "metadata": {},
   "outputs": [],
   "source": [
    "rfp_vectors = [\n",
    "    ['pBAA', 'pBCA', 'pBDA', 'pBFA'],\n",
    "    ['pEAA', 'pECA', 'pEDA', 'pEFA'],\n",
    "    ['pGAA', 'pGCA', 'pGDA', 'pGEA', 'pGFA']\n",
    "]\n",
    "\n",
    "rfp_vector_ids = [[fj.get('vector', name=name).id[0] for name in vecs] for vecs in rfp_vectors]\n",
    "rfp_id = fj.get('signal', name='RFP').id\n",
    "\n",
    "medias = ['M9-glucosa', 'M9-glicerol']\n",
    "strains = ['MG1655z1', 'Top10']\n",
    "\n",
    "# RFP figures\n",
    "for media in medias:\n",
    "    for strain in strains:\n",
    "        print(media, strain)\n",
    "        for vi,vector_id in enumerate(rfp_vector_ids):\n",
    "            media_id = fj.get('media', name=media).id\n",
    "            strain_id = fj.get('strain', name=strain).id\n",
    "            fig = fj.plot(study=study.id, \n",
    "                           vector=vector_id,\n",
    "                           media=media_id,\n",
    "                           strain=strain_id,\n",
    "                           signal=rfp_id,\n",
    "                           type='Expression Rate (indirect)',\n",
    "                           biomass_signal=od.id[0],\n",
    "                           pre_smoothing=11,\n",
    "                           post_smoothing=11,\n",
    "                            normalize='Temporal Mean', \n",
    "                            subplots='Signal', \n",
    "                            markers='Vector', \n",
    "                            plot='Mean')\n",
    "            fig = flapjack.layout_print(fig, width=1.65, height=1.25)\n",
    "            fname = '-'.join([media, strain, rfp_vectors[vi][0][1], 'RFP.png'])\n",
    "            io.write_image(fig, fname)"
   ]
  },
  {
   "cell_type": "code",
   "execution_count": null,
   "metadata": {},
   "outputs": [],
   "source": [
    "cfp_id = fj.get('signal', name='CFP').id\n",
    "fig = fj.plot(study=study.id, \n",
    "               signal=cfp_id,\n",
    "               type='Expression Rate (indirect)',\n",
    "               biomass_signal=od.id[0],\n",
    "               pre_smoothing=11,\n",
    "               post_smoothing=11,\n",
    "                normalize='Temporal Mean', \n",
    "                subplots='Signal', \n",
    "                markers='Vector', \n",
    "                plot='Mean')\n",
    "fig = flapjack.layout_print(fig, width=1.65, height=1.25)\n",
    "fig.update_traces(showlegend=False)\n",
    "fname = 'CFP.png'\n",
    "io.write_image(fig, fname)"
   ]
  },
  {
   "cell_type": "code",
   "execution_count": null,
   "metadata": {},
   "outputs": [],
   "source": [
    "# CFP figures\n",
    "for media in medias:\n",
    "    for strain in strains:\n",
    "        print(media, strain)\n",
    "        filter['dna'] = []\n",
    "        filter['media'] = media\n",
    "        filter['strain'] = strain\n",
    "        figs,s = session.plot_rate_direct(filter)\n",
    "        cfp = figs['CFP']\n",
    "        # Layout the figure better for our purposes\n",
    "        layout_print(cfp, width=3.3/2, aspect=1.25, font_size=6.)\n",
    "        cfp.update_yaxes(title='Expression rate')\n",
    "        cfp.update_yaxes(rangemode='tozero')\n",
    "        #cfp.update_traces(showlegend=False)\n",
    "        # Set the figure title\n",
    "        cfp['layout']['annotations'][0]['text'] = 'CFP'\n",
    "        cfp.show()\n",
    "        fname = '-'.join([media[0], strain[0], 'CFP.png'])\n",
    "        io.write_image(cfp, fname, 'png')"
   ]
  },
  {
   "cell_type": "markdown",
   "metadata": {},
   "source": [
    "### Analyze time series data using tslearn"
   ]
  },
  {
   "cell_type": "code",
   "execution_count": null,
   "metadata": {},
   "outputs": [],
   "source": [
    "df_all = fj.analysis(study=study.id,\n",
    "                            type='Expression Rate (indirect)',\n",
    "                            biomass_signal=od.id,\n",
    "                            pre_smoothing=11,\n",
    "                            post_smoothing=11\n",
    "                            #bg_correction=2,\n",
    "                            #min_biomass=0.05,\n",
    "                            #remove_data=False\n",
    "                              )"
   ]
  },
  {
   "cell_type": "code",
   "execution_count": null,
   "metadata": {},
   "outputs": [],
   "source": [
    "import tslearn\n",
    "from tslearn.clustering import TimeSeriesKMeans, silhouette_score\n",
    "from tslearn.preprocessing import TimeSeriesScalerMinMax, \\\n",
    "                                    TimeSeriesScalerMeanVariance"
   ]
  },
  {
   "cell_type": "code",
   "execution_count": null,
   "metadata": {},
   "outputs": [],
   "source": [
    "fig,axs = plt.subplots(2, 2, figsize=(9,3.5))\n",
    "axs = axs.ravel()\n",
    "i = 0\n",
    "for signal,data in df_all.groupby('Signal'):\n",
    "    df_heatmap = data.sort_values('Time').pivot_table(values='Rate',\n",
    "                                                index=[ 'Media', 'Strain', 'Vector'],\n",
    "                                                columns='Time', aggfunc=np.mean)\n",
    "    #df_heatmap = df_heatmap / df_heatmap.mean()\n",
    "    df_heatmap = df_heatmap.div( df_heatmap.mean(axis=1), axis=0 )\n",
    "    \n",
    "    values = df_heatmap.values\n",
    "    X_train = TimeSeriesScalerMeanVariance().fit_transform(values)\n",
    "    \n",
    "    max_silscore = 0\n",
    "    for ncomps in range(2,14):\n",
    "        _km = TimeSeriesKMeans(n_clusters=ncomps, random_state=0, n_init=10)\n",
    "        _y_pred = km.fit_predict(X_train)\n",
    "\n",
    "        silscore = silhouette_score(X_train, _y_pred, metric=\"euclidean\")\n",
    "        if silscore > max_silscore:\n",
    "            max_silscore = silscore\n",
    "            y_pred = _y_pred\n",
    "            km = _km\n",
    "            comps = ncomps\n",
    "    print(comps)\n",
    "    idx = np.argsort(y_pred)\n",
    "    #axs[i].imshow(X_train[idx,:,0], cmap='jet', vmin=-3, vmax=3, aspect='auto')\n",
    "    #g = sns.heatmap(df_heatmap[idx,:], cmap='jet', ax=axs[i])\n",
    "    axs[i].plot(km.cluster_centers_[:,:,0].transpose())\n",
    "    \n",
    "    if i != 0:\n",
    "        axs[i].set_xticks([])\n",
    "        axs[i].set_yticks([])\n",
    "    axs[i].set_title(signal)\n",
    "    i += 1"
   ]
  },
  {
   "cell_type": "code",
   "execution_count": null,
   "metadata": {},
   "outputs": [],
   "source": [
    "fig = fj.plot(study=study.id, \n",
    "                           type='Expression Rate (indirect)',\n",
    "                           biomass_signal=od.id[0],\n",
    "                           pre_smoothing=11,\n",
    "                           post_smoothing=11,\n",
    "                            normalize='Mean/Std', \n",
    "                            subplots='Signal', \n",
    "                            markers='Media', \n",
    "                            plot='Mean')\n",
    "fig = flapjack.layout_print(fig, width=9, height=3.5)\n",
    "#fname = '-'.join([media, strain, yfp_vectors[vi][0][2], 'YFP.png'])\n",
    "#io.write_image(fig, fname)"
   ]
  },
  {
   "cell_type": "code",
   "execution_count": null,
   "metadata": {},
   "outputs": [],
   "source": [
    "for ncomps in range(2,14):\n",
    "    values = df_heatmap.values\n",
    "    X_train = TimeSeriesScalerMeanVariance().fit_transform(values)\n",
    "    km = TimeSeriesKMeans(n_clusters=ncomps, random_state=0, n_init=10)\n",
    "    y_pred = km.fit_predict(X_train)\n",
    "    \n",
    "    silscore = silhouette_score(X_train, y_pred, metric=\"euclidean\")\n",
    "    print('Silhouette score = ', silscore)"
   ]
  },
  {
   "cell_type": "code",
   "execution_count": null,
   "metadata": {},
   "outputs": [],
   "source": [
    "values = df_heatmap.values\n",
    "X_train = TimeSeriesScalerMeanVariance().fit_transform(values)\n",
    "print(X_train.shape)    \n",
    "\n",
    "km = TimeSeriesKMeans(n_clusters=2, random_state=0, n_init=10)\n",
    "y_pred = km.fit_predict(X_train)\n"
   ]
  },
  {
   "cell_type": "code",
   "execution_count": null,
   "metadata": {},
   "outputs": [],
   "source": [
    "X_train.shape"
   ]
  },
  {
   "cell_type": "code",
   "execution_count": null,
   "metadata": {},
   "outputs": [],
   "source": [
    "colors = ['r', 'g']\n",
    "for c in range(2):\n",
    "    y = km.cluster_centers_[c].ravel()\n",
    "    #plt.plot(y)\n",
    "    idx = np.where(y_pred==c)[0]\n",
    "    #print(idx)\n",
    "    plt.plot(X_train[idx,:,0].transpose(), colors[c])"
   ]
  },
  {
   "cell_type": "code",
   "execution_count": null,
   "metadata": {},
   "outputs": [],
   "source": []
  }
 ],
 "metadata": {
  "kernelspec": {
   "display_name": "Python 3",
   "language": "python",
   "name": "python3"
  },
  "language_info": {
   "codemirror_mode": {
    "name": "ipython",
    "version": 3
   },
   "file_extension": ".py",
   "mimetype": "text/x-python",
   "name": "python",
   "nbconvert_exporter": "python",
   "pygments_lexer": "ipython3",
   "version": "3.8.5"
  }
 },
 "nbformat": 4,
 "nbformat_minor": 2
}

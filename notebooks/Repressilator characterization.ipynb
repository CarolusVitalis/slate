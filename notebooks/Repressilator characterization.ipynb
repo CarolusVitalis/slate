{
 "cells": [
  {
   "cell_type": "code",
   "execution_count": null,
   "metadata": {},
   "outputs": [],
   "source": [
    "import numpy as np\n",
    "import matplotlib.pyplot as plt\n",
    "from matplotlib import rc\n",
    "from matplotlib import gridspec\n",
    "rc('text', usetex=False)\n",
    "plt.rcParams.update({'font.size': 8})\n",
    "import scipy\n",
    "from scipy.interpolate import Rbf, interp1d, griddata\n",
    "from scipy.signal import find_peaks\n",
    "from scipy.optimize import least_squares\n",
    "import os\n",
    "import seaborn as sns\n",
    "import pandas as pd\n",
    "import flapjack\n",
    "#plt.rcParams['figure.figsize'] = 5, 4"
   ]
  },
  {
   "cell_type": "markdown",
   "metadata": {},
   "source": [
    "### Define the models of the characterization circuits"
   ]
  },
  {
   "cell_type": "code",
   "execution_count": null,
   "metadata": {},
   "outputs": [],
   "source": [
    "def step_receiver(fp, A, alpha_A, K_A, n_A, mu, gamma, Dt):\n",
    "    # Update protein concs\n",
    "    a = (A/K_A)**n_A\n",
    "    nextfp = fp + (alpha_A*a/(1 + a) - gamma*fp - mu*fp) * Dt\n",
    "    return nextfp"
   ]
  },
  {
   "cell_type": "code",
   "execution_count": null,
   "metadata": {},
   "outputs": [],
   "source": [
    "def step_inverter(p_i, fp, alpha_j, K_i, n_i, mu, gamma, Dt):\n",
    "    p = (p_i/K_i)**n_i\n",
    "    nextfp = fp + ( alpha_j / ( 1 + p ) - gamma*fp - mu*fp ) * Dt\n",
    "    return nextfp"
   ]
  },
  {
   "cell_type": "code",
   "execution_count": null,
   "metadata": {},
   "outputs": [],
   "source": [
    "def step_FFL(p_i, p_j, fp, alpha_k, K_j, n_j, mu, gamma, Dt):\n",
    "    p = (p_j/K_j)**n_j\n",
    "    nextfp = fp + ( alpha_k / ( 1 + p ) - gamma*fp - mu*fp ) * Dt\n",
    "    return nextfp"
   ]
  },
  {
   "cell_type": "markdown",
   "metadata": {},
   "source": [
    "### The characterization model for one edge\n",
    "We may consider the repressilator as a graph with each repressor as a node, and each edge an interaction between a repressor and a promoter. In this case we must characterize each edge of the graph, each interaction between repressor and promoter. To solve for the parameters we use a forward model of the data simulating a plate reader."
   ]
  },
  {
   "cell_type": "code",
   "execution_count": null,
   "metadata": {},
   "outputs": [],
   "source": [
    "def characterize(\n",
    "    alpha_j=1, alpha_k=1, alpha_A=1,\n",
    "    n_i=2, n_j=2,\n",
    "    K_i=1, K_j=1, K_A=1,\n",
    "    Dt=0.05,\n",
    "    sim_steps=10,\n",
    "    A=[0],\n",
    "    muval=[1]*100, odval=[1]*100\n",
    "):\n",
    "    p1_list,p2_list,p3_list,A_list,t_list = [],[],[],[],[]\n",
    "    p1 = np.zeros_like(A)\n",
    "    p2 = np.zeros_like(A)\n",
    "    p3 = np.zeros_like(A)\n",
    "    for t in range(100):\n",
    "        od = odval[t]\n",
    "        mu = muval[t]\n",
    "        for tt in range(sim_steps):\n",
    "            nextp1 = step_receiver(p1, A, alpha_A, K_A, mu, Dt/sim_steps)\n",
    "            nextp2 = step_inverter(p1, p2, alpha_j, K_i, n_i, mu, Dt/sim_steps)\n",
    "            nextp3 = step_FFL(p1, p2, p3, alpha_k, K_j, n_j, mu, Dt/sim_steps)\n",
    "            p1,p2,p3 = nextp1,nextp2,nextp3\n",
    "\n",
    "        p1_list.append(p1*od)\n",
    "        p2_list.append(p2*od)\n",
    "        p3_list.append(p3*od)\n",
    "        A_list.append(A)\n",
    "        t_list.append([t * Dt]*len(A))\n",
    "\n",
    "    ap1 = np.array(p1_list).transpose()\n",
    "    ap2 = np.array(p2_list).transpose()\n",
    "    ap3 = np.array(p3_list).transpose()\n",
    "    AA = np.array(A_list).transpose()\n",
    "    tt = np.array(t_list).transpose()\n",
    "    t = np.arange(100) * Dt\n",
    "    return ap1,ap2,ap3,AA,tt"
   ]
  },
  {
   "cell_type": "code",
   "execution_count": null,
   "metadata": {},
   "outputs": [],
   "source": [
    "def characterize_receiver(\n",
    "    alpha_A=1,\n",
    "    K_A=1,\n",
    "    n_A=2,\n",
    "    Dt=0.05,\n",
    "    sim_steps=10,\n",
    "    A=[0],\n",
    "    muval=[1]*100, odval=[1]*100,\n",
    "    gamma=0\n",
    "):\n",
    "    p1_list,A_list,t_list = [],[],[]\n",
    "    p1 = np.zeros_like(A)\n",
    "    for t in range(100):\n",
    "        od = odval[t]\n",
    "        mu = muval[t]\n",
    "        for tt in range(sim_steps):\n",
    "            nextp1 = step_receiver(p1, A, alpha_A, K_A, n_A, mu, gamma, Dt/sim_steps)\n",
    "            p1 = nextp1\n",
    "\n",
    "        p1_list.append(p1*od)\n",
    "        A_list.append(A)\n",
    "        t_list.append([t * Dt]*len(A))\n",
    "\n",
    "    ap1 = np.array(p1_list).transpose()\n",
    "    AA = np.array(A_list).transpose()\n",
    "    tt = np.array(t_list).transpose()\n",
    "    t = np.arange(100) * Dt\n",
    "    return ap1,AA,tt"
   ]
  },
  {
   "cell_type": "code",
   "execution_count": null,
   "metadata": {},
   "outputs": [],
   "source": [
    "def characterize_inverter(\n",
    "    alpha_j=1,\n",
    "    n_i=2,\n",
    "    K_i=1,\n",
    "    alpha_A=1e2,\n",
    "    K_A=1,\n",
    "    n_A=2,\n",
    "    Dt=0.05,\n",
    "    sim_steps=10,\n",
    "    A=[0],\n",
    "    muval=[1]*100, odval=[1]*100,\n",
    "    gamma=0\n",
    "):\n",
    "    p2_list,A_list,t_list = [],[],[]\n",
    "    p1 = np.zeros_like(A)\n",
    "    p2 = np.zeros_like(A)\n",
    "    for t in range(100):\n",
    "        od = odval[t]\n",
    "        mu = muval[t]\n",
    "        for tt in range(sim_steps):\n",
    "            nextp1 = step_receiver(p1, A, alpha_A, K_A, n_A, mu, gamma, Dt/sim_steps)\n",
    "            nextp2 = step_inverter(p1, p2, alpha_j, K_i, n_i, mu, 0, Dt/sim_steps)\n",
    "            p1,p2 = nextp1,nextp2\n",
    "\n",
    "        p2_list.append(p2*od)\n",
    "        A_list.append(A)\n",
    "        t_list.append([t * Dt]*len(A))\n",
    "\n",
    "    ap2 = np.array(p2_list).transpose()\n",
    "    AA = np.array(A_list).transpose()\n",
    "    tt = np.array(t_list).transpose()\n",
    "    t = np.arange(100) * Dt\n",
    "    return ap2,AA,tt"
   ]
  },
  {
   "cell_type": "markdown",
   "metadata": {},
   "source": [
    "### Plot the three characterization circuit models"
   ]
  },
  {
   "cell_type": "code",
   "execution_count": null,
   "metadata": {},
   "outputs": [],
   "source": [
    "alpha_1 = 1\n",
    "alpha_2 = 1\n",
    "alpha_3 = 1\n",
    "alpha_A = 1\n",
    "n_1 = 2\n",
    "n_2 = 2\n",
    "n_3 = 2\n",
    "K_1 = 1\n",
    "K_2 = 1\n",
    "K_3 = 1\n",
    "K_A = 1\n",
    "Dt = 0.24\n",
    "A = np.logspace(-3, 3, 3, endpoint=True)\n",
    "\n",
    "ap1,ap2,ap3,AA,tt = characterize(\n",
    "    alpha_j=alpha_2, alpha_k=alpha_3, alpha_A=alpha_A,\n",
    "    n_i=n_1, n_j=n_2,\n",
    "    K_i=K_1, K_j=K_2, K_A=K_A,\n",
    "    Dt=Dt,\n",
    "    A=A\n",
    ")\n",
    "\n",
    "width = 40 / 25.4\n",
    "height = 120 / 25.4\n",
    "fig,axs = plt.subplots(3,1,figsize=(width,height), sharex=True)\n",
    "\n",
    "df = pd.DataFrame()\n",
    "df['p1'] = ap1.ravel()\n",
    "df['p2'] = ap2.ravel()\n",
    "df['p3'] = ap3.ravel()\n",
    "df['Time'] = tt.ravel()\n",
    "df['A'] = AA.ravel()\n",
    "df['logA'] = np.log10(AA.ravel())\n",
    "\n",
    "df.sort_values('Time').groupby('A').plot(x='Time', y='p1', ax=axs[0], style='-')\n",
    "axs[0].legend(['A = %g'%a for a in A], loc=(0,1.1))\n",
    "df.sort_values('Time').groupby('A').plot(x='Time', y='p2', ax=axs[1], style='-')\n",
    "axs[1].legend().remove()\n",
    "df.sort_values('Time').groupby('A').plot(x='Time', y='p3', ax=axs[2], style='-')\n",
    "axs[2].legend().remove()\n",
    "for i in range(3):\n",
    "    axs[i].set_xlim([0,4])\n",
    "    #axs[i].set_xticks([])\n",
    "    #axs[i].set_yticks([])\n",
    "    axs[i].set_ylabel('YFP fluo. (AU)')\n",
    "\n",
    "plt.subplots_adjust(top=0.8)\n",
    "plt.show()\n",
    "plt.savefig('repressilator_char.png', dpi=300)"
   ]
  },
  {
   "cell_type": "markdown",
   "metadata": {},
   "source": [
    "### Characterizing all three edges\n",
    "The complete characterization model for the repressilator consists of three edge models as described above."
   ]
  },
  {
   "cell_type": "code",
   "execution_count": null,
   "metadata": {},
   "outputs": [],
   "source": [
    "def repressilator(\n",
    "    alpha_1=1, alpha_2=1, alpha_3=1, alpha_A=1,\n",
    "    n_1=2, n_2=2, n_3=2,\n",
    "    K_1=1, K_2=1, K_3=1, K_A=1,\n",
    "    A=[0], muval=[1]*100, odval=[1]*100, Dt=0.24\n",
    "):\n",
    "    p1_1,p2_1,p3_1,AA,tt = characterize(\n",
    "        alpha_j=alpha_2, alpha_k=alpha_3, alpha_A=alpha_A,\n",
    "        n_i=n_1, n_j=n_2,\n",
    "        K_i=K_1, K_j=K_2, K_A=K_A,\n",
    "        Dt=Dt, A=A, muval=muval, odval=odval\n",
    "    )\n",
    "    p1_2,p2_2,p3_2,AA,tt = characterize(\n",
    "        alpha_j=alpha_3, alpha_k=alpha_1, alpha_A=alpha_A,\n",
    "        n_i=n_2, n_j=n_3,\n",
    "        K_i=K_2, K_j=K_3, K_A=K_A,\n",
    "        Dt=Dt, A=A, muval=muval, odval=odval\n",
    "    )\n",
    "    p1_3,p2_3,p3_3,AA,tt = characterize(\n",
    "        alpha_j=alpha_1, alpha_k=alpha_2, alpha_A=alpha_A,\n",
    "        n_i=n_3, n_j=n_1,\n",
    "        K_i=K_3, K_j=K_1, K_A=K_A,\n",
    "        Dt=Dt, A=A, muval=muval, odval=odval\n",
    "    )\n",
    "    return( np.concatenate((p1_1,p2_1,p3_1,p1_2,p2_2,p3_2,p1_3,p2_3,p3_3)).ravel() )"
   ]
  },
  {
   "cell_type": "markdown",
   "metadata": {},
   "source": [
    "### Define the residuals for model fitting"
   ]
  },
  {
   "cell_type": "code",
   "execution_count": null,
   "metadata": {},
   "outputs": [],
   "source": [
    "def residuals(data, A, muval, odval, Dt): \n",
    "    def func(x): \n",
    "        alpha_1 = x[0]\n",
    "        alpha_2 = x[1]\n",
    "        alpha_3 = x[2]\n",
    "        alpha_A = x[3]\n",
    "        n_1,n_2,n_3 = 2,2,2 #x[4:7]\n",
    "        K_1,K_2,K_3,K_A = x[4:8]\n",
    "        return data - repressilator(\n",
    "                        alpha_1=alpha_1, alpha_2=alpha_2, alpha_3=alpha_3, alpha_A=alpha_A,\n",
    "                        n_1=n_1, n_2=n_2, n_3=n_3,\n",
    "                        K_1=K_1, K_2=K_2, K_3=K_3, K_A=K_A,\n",
    "                        A=A, muval=muval, odval=odval, Dt=Dt\n",
    "                    )\n",
    "    return func"
   ]
  },
  {
   "cell_type": "markdown",
   "metadata": {},
   "source": [
    "### Create some test data and fit the model"
   ]
  },
  {
   "cell_type": "code",
   "execution_count": null,
   "metadata": {},
   "outputs": [],
   "source": [
    "A = 10**(np.arange(24)/2-6)\n",
    "t = np.linspace(0,24,200)\n",
    "odval = flapjack.gompertz(t, 0.01, 1, 1, 4)\n",
    "muval = flapjack.gompertz_growth_rate(t, 0.01, 1, 1, 4)\n",
    "fake_data = repressilator(A=A, \n",
    "                     alpha_1=1, alpha_2=1, alpha_3=1,\n",
    "                     K_1=1, K_2=1, K_3=1, \n",
    "                     alpha_A=1e2, \n",
    "                     muval=muval, odval=odval)\n",
    "#data = data + np.random.normal(0,0.01,size=data.shape)"
   ]
  },
  {
   "cell_type": "code",
   "execution_count": null,
   "metadata": {},
   "outputs": [],
   "source": [
    "plt.plot(fake_data[:100])"
   ]
  },
  {
   "cell_type": "code",
   "execution_count": null,
   "metadata": {},
   "outputs": [],
   "source": [
    "lower_bounds = [0]*8\n",
    "upper_bounds = [1e4]*4 + [1000]*4\n",
    "bounds = [lower_bounds, upper_bounds]\n",
    "res_1 = least_squares(residuals(fake_data, A, muval, odval, Dt), [2]*8, bounds=bounds)"
   ]
  },
  {
   "cell_type": "code",
   "execution_count": null,
   "metadata": {},
   "outputs": [],
   "source": [
    "x = res_1.x\n",
    "alpha_1 = x[0]\n",
    "alpha_2 = x[1]\n",
    "alpha_3 = x[2]\n",
    "alpha_A = x[3]\n",
    "#n_1,n_2,n_3 = x[4:7]\n",
    "K_1,K_2,K_3,K_A = x[4:8]\n",
    "print(res_1.x)"
   ]
  },
  {
   "cell_type": "markdown",
   "metadata": {},
   "source": [
    "### Characterize via flapjack"
   ]
  },
  {
   "cell_type": "code",
   "execution_count": null,
   "metadata": {},
   "outputs": [],
   "source": [
    "def residuals(data, A, muval, odval, Dt): \n",
    "    def func(x): \n",
    "        alpha_j = x[0]\n",
    "        alpha_k = x[1]\n",
    "        alpha_A = x[2]\n",
    "        #n_i,n_j = x[3:5]\n",
    "        n_i,n_j = 2,2\n",
    "        K_i,K_j,K_A = x[3:6]\n",
    "        p1,p2,p3,AA,tt = characterize(\n",
    "                    alpha_j=alpha_j, alpha_k=alpha_k, alpha_A=alpha_A,\n",
    "                    n_i=n_i, n_j=n_j,\n",
    "                    K_i=K_i, K_j=K_j, K_A=K_A,\n",
    "                    Dt=Dt,\n",
    "                    A=A,\n",
    "                    muval=muval, odval=odval\n",
    "                )\n",
    "        model = np.concatenate((p1,p2,p3)).ravel()\n",
    "        return data - model\n",
    "    return func"
   ]
  },
  {
   "cell_type": "code",
   "execution_count": null,
   "metadata": {},
   "outputs": [],
   "source": [
    "def residuals_receiver(data, A, muval, odval, Dt): \n",
    "    def func(x): \n",
    "        alpha_A = x[0]\n",
    "        K_A = x[1]\n",
    "        n_A = x[2]\n",
    "        \n",
    "        p,AA,tt = characterize_receiver(\n",
    "                    alpha_A=alpha_A,\n",
    "                    K_A=K_A,\n",
    "                    n_A=n_A,\n",
    "                    Dt=Dt,\n",
    "                    A=A,\n",
    "                    muval=muval, odval=odval\n",
    "                )\n",
    "        model = p.ravel()\n",
    "        return data - model\n",
    "    return func"
   ]
  },
  {
   "cell_type": "code",
   "execution_count": null,
   "metadata": {},
   "outputs": [],
   "source": [
    "def residuals_inverter(data, alpha_A, K_A, n_A, A, muval, odval, Dt): \n",
    "    def func(x): \n",
    "        alpha_j = x[0]\n",
    "        n_i = x[1]\n",
    "        K_i = x[2]\n",
    "        gamma = x[3]\n",
    "\n",
    "        p,AA,tt = characterize_inverter(\n",
    "                    alpha_j=alpha_j,\n",
    "                    n_i=n_i,\n",
    "                    K_i=K_i,\n",
    "                    alpha_A=alpha_A,\n",
    "                    K_A=K_A,\n",
    "                    n_A=n_A,\n",
    "                    Dt=Dt,\n",
    "                    A=A,\n",
    "                    muval=muval, odval=odval,\n",
    "                    gamma=gamma\n",
    "                )\n",
    "        model = p.ravel()\n",
    "        return data - model\n",
    "    return func"
   ]
  },
  {
   "cell_type": "code",
   "execution_count": null,
   "metadata": {},
   "outputs": [],
   "source": [
    "import flapjack\n",
    "fj = flapjack.Flapjack(url_base='localhost:8000')\n",
    "fj.log_in(username='tim', password='chicken')"
   ]
  },
  {
   "cell_type": "code",
   "execution_count": null,
   "metadata": {},
   "outputs": [],
   "source": [
    "receiver_study = fj.get('study', name=['Receiver simulation alpha scan deg'])\n",
    "receiver_df = fj.measurements(study=receiver_study.id)\n",
    "receiver_df = receiver_df.sort_values(['Sample', 'Concentration1', 'Time'])\n",
    "receiver = receiver_df[receiver_df.Signal=='SFP0'].groupby(['Concentration1', 'Time']).mean().Measurement.values"
   ]
  },
  {
   "cell_type": "code",
   "execution_count": null,
   "metadata": {},
   "outputs": [],
   "source": [
    "fj.get('chemical')"
   ]
  },
  {
   "cell_type": "code",
   "execution_count": null,
   "metadata": {},
   "outputs": [],
   "source": [
    "odval = receiver_df[receiver_df.Signal=='SOD'].groupby(['Time']).mean().Measurement.values\n",
    "od_signal = fj.get('signal', name='SOD')\n",
    "mu = fj.analysis(type='Expression Rate (direct)',\n",
    "                eps_L=1e-3,\n",
    "                degr=0,\n",
    "                 biomass_signal=od_signal.id[0],\n",
    "                 study=receiver_study.id,\n",
    "                 signal=od_signal.id\n",
    "                )\n",
    "muval = mu.groupby('Time').mean().Rate.values\n",
    "mutimes = mu.groupby('Time').mean().index.values\n",
    "times = np.linspace(0, 48, 200)\n",
    "from scipy.interpolate import interp1d\n",
    "imu = interp1d(mutimes, muval, 1, bounds_error=False, fill_value='extrapolate')\n",
    "muval = imu(times)"
   ]
  },
  {
   "cell_type": "code",
   "execution_count": null,
   "metadata": {},
   "outputs": [],
   "source": [
    "def get_inverter(\n",
    "    alpha_j = 1e2,\n",
    "    K_i = 1,\n",
    "    n_i = 2,\n",
    "    gamma=0\n",
    "):\n",
    "    study = fj.get('study', name='TU characterization alpha/gamma scan 2')\n",
    "    assay_name = f'Inverter, alpha_j={alpha_j}, K_i={K_i}, n_i={n_i}, gamma={gamma}'\n",
    "    inverter_assay = fj.get(\n",
    "        'assay', \n",
    "        name=[assay_name],\n",
    "        study=study.id\n",
    "    )\n",
    "    inverter = fj.measurements(assay=[inverter_assay.id[0]])\n",
    "    inverter = inverter.sort_values(['Sample', 'Concentration1', 'Time'])\n",
    "    inverter = inverter[inverter.Signal=='SFP0'].groupby(['Concentration1', 'Time']).mean().Measurement.values\n",
    "    return inverter"
   ]
  },
  {
   "cell_type": "code",
   "execution_count": null,
   "metadata": {},
   "outputs": [],
   "source": [
    "def get_dbl_inverter(\n",
    "    alpha_j = 1e2,\n",
    "    K_j = 1,\n",
    "    n_j = 2,\n",
    "):\n",
    "    study = fj.get('study', name='TU characterization alpha scan deg 2')\n",
    "    dbl_inverter_assay = fj.get(\n",
    "        'assay', \n",
    "        name=[f'Double inverter, alpha_j={alpha_j}, K_j={K_j}, n_j={n_j}'],\n",
    "        study=study.id\n",
    "    )\n",
    "    dbl_inverter = fj.measurements(assay=[dbl_inverter_assay.id[0]])\n",
    "    dbl_inverter = dbl_inverter.sort_values(['Sample', 'Concentration1', 'Time'])\n",
    "    dbl_inverter = dbl_inverter[dbl_inverter.Signal=='SFP0'].groupby(['Concentration1', 'Time']).mean().Measurement.values\n",
    "    return dbl_inverter"
   ]
  },
  {
   "cell_type": "code",
   "execution_count": null,
   "metadata": {},
   "outputs": [],
   "source": [
    "params = {}\n",
    "alphas = np.logspace(2, 5, 4, endpoint=True)\n",
    "# Loop over alpha for 1st TU\n",
    "for alpha in alphas:\n",
    "    # Get the data for fitting\n",
    "    inverter = get_inverter(alpha_j=alpha, K_i=1, n_i=2)\n",
    "    dbl_inverter = get_dbl_inverter(alpha_j=alpha, K_j=1, n_j=2)\n",
    "    data = np.concatenate([\n",
    "                receiver, inverter, dbl_inverter,\n",
    "            ])\n",
    "    data = data.ravel()\n",
    "\n",
    "    # Concentration range\n",
    "    A = np.logspace(-6, 6, 24, endpoint=True)\n",
    "    \n",
    "    # Bounds for fitting\n",
    "    lower_bounds = [0]*6\n",
    "    upper_bounds = [1e8]*3 + [100]*3\n",
    "    bounds = [lower_bounds, upper_bounds]\n",
    "    '''\n",
    "        alpha_j = x[0]\n",
    "        alpha_k = x[1]\n",
    "        alpha_A = x[2]\n",
    "        n_i,n_j = x[3:5]\n",
    "        K_i,K_j,K_A = x[5:7]\n",
    "    '''\n",
    "    res = least_squares(residuals(data, A, muval, odval, 0.24), [1]*6, bounds=bounds)\n",
    "    print(alpha, res.x)\n",
    "    params[alpha] = res.x"
   ]
  },
  {
   "cell_type": "markdown",
   "metadata": {},
   "source": [
    "### Characterize receiver only"
   ]
  },
  {
   "cell_type": "code",
   "execution_count": null,
   "metadata": {},
   "outputs": [],
   "source": [
    "# Concentration range\n",
    "A = np.logspace(-6, 6, 24, endpoint=True)\n",
    "\n",
    "# Bounds for fitting\n",
    "lower_bounds = [0]*3\n",
    "upper_bounds = [1e8, 100, 4]\n",
    "bounds = [lower_bounds, upper_bounds]\n",
    "'''\n",
    "    alpha_A = x[0]\n",
    "    K_A = x[1]\n",
    "'''\n",
    "data = receiver.ravel()\n",
    "res = least_squares(residuals_receiver(data, A, muval, odval, 0.24), [1]*3, bounds=bounds)\n",
    "print(res.x)\n",
    "alpha_A = res.x[0]\n",
    "K_A = res.x[1]\n",
    "n_A = res.x[2]"
   ]
  },
  {
   "cell_type": "markdown",
   "metadata": {},
   "source": [
    "### Characterize inverter"
   ]
  },
  {
   "cell_type": "code",
   "execution_count": null,
   "metadata": {},
   "outputs": [],
   "source": [
    "# Concentration range\n",
    "A = np.logspace(-6, 6, 24, endpoint=True)\n",
    "\n",
    "# Bounds for fitting\n",
    "lower_bounds = [0]*4\n",
    "upper_bounds = [1e8, 4, 100, 6]\n",
    "bounds = [lower_bounds, upper_bounds]\n",
    "'''\n",
    "    alpha_j = x[0]\n",
    "    n_i = x[1]\n",
    "    K_i = x[2]\n",
    "    gamma = x[3]\n",
    "'''\n",
    "alphas = np.logspace(2, 5, 4, endpoint=True)\n",
    "gammas = np.linspace(0.5, 2, 3, endpoint=True)\n",
    "# Loop over alpha for 1st TU\n",
    "params = {}\n",
    "for gamma in gammas:\n",
    "    for alpha in alphas:\n",
    "        inverter = get_inverter(alpha_j=alpha, K_i=1, n_i=2, gamma=gamma)\n",
    "        data = inverter.ravel()\n",
    "        res = least_squares(residuals_inverter(data, alpha_A, K_A, n_A, A, muval, odval, 0.24), [1]*4, bounds=bounds)\n",
    "        params[(alpha, gamma)] = res.x\n",
    "        print(res.x)"
   ]
  },
  {
   "cell_type": "code",
   "execution_count": null,
   "metadata": {},
   "outputs": [],
   "source": [
    "print(params)"
   ]
  },
  {
   "cell_type": "markdown",
   "metadata": {},
   "source": [
    "### Predict the repressilator"
   ]
  },
  {
   "cell_type": "code",
   "execution_count": null,
   "metadata": {},
   "outputs": [],
   "source": [
    "def step(\n",
    "    p, \n",
    "    alpha1, alpha2, alpha3, \n",
    "    gamma1, gamma2, gamma3, \n",
    "    K1, K2, K3, \n",
    "    n1, n2, n3, \n",
    "    growth_rate, dt\n",
    "):\n",
    "    '''\n",
    "    Update protein levels p according to signal\n",
    "    '''\n",
    "    p1,p2,p3 = p\n",
    "    dp1dt = alpha1 / (1 + (p3/K3)**n1) - gamma1 * p1 - growth_rate * p1\n",
    "    dp2dt = alpha2 / (1 + (p1/K1)**n2) - gamma2 * p2 - growth_rate * p2\n",
    "    dp3dt = alpha3 / (1 + (p2/K2)**n3) - gamma3 * p3 - growth_rate * p3\n",
    "    p[0] += dp1dt * dt\n",
    "    p[1] += dp2dt * dt\n",
    "    p[2] += dp3dt * dt\n",
    "    return p"
   ]
  },
  {
   "cell_type": "markdown",
   "metadata": {},
   "source": [
    "### Choose some random combinations of TUs"
   ]
  },
  {
   "cell_type": "code",
   "execution_count": null,
   "metadata": {},
   "outputs": [],
   "source": [
    "import random\n",
    "# Make some random repressilators\n",
    "sample_params = {}\n",
    "for i in range(1728):\n",
    "    key1, sample_params1 = random.choice(list(params.items()))\n",
    "    key2, sample_params2 = random.choice(list(params.items()))\n",
    "    key3, sample_params3 = random.choice(list(params.items()))\n",
    "    key = key1 + key2 + key3\n",
    "    alpha1 = sample_params1[0]\n",
    "    alpha2 = sample_params2[0]\n",
    "    alpha3 = sample_params3[0]\n",
    "    n1 = sample_params3[1]\n",
    "    n2 = sample_params1[1]\n",
    "    n3 = sample_params2[1]\n",
    "    K1 = sample_params3[2]\n",
    "    K2 = sample_params1[2]\n",
    "    K3 = sample_params2[2]\n",
    "    gamma1 = sample_params1[3]\n",
    "    gamma2 = sample_params2[3]\n",
    "    gamma3 = sample_params3[3]\n",
    "    sample_params[key] = (\n",
    "        alpha1, alpha2, alpha3,\n",
    "        n1, n2, n3,\n",
    "        K1, K2, K3,\n",
    "        gamma1, gamma2, gamma3\n",
    "    )"
   ]
  },
  {
   "cell_type": "markdown",
   "metadata": {},
   "source": [
    "### Simulate the repressilator with fitted parameters"
   ]
  },
  {
   "cell_type": "code",
   "execution_count": null,
   "metadata": {},
   "outputs": [],
   "source": [
    "'''\n",
    "    alpha_j = x[0]\n",
    "    n_i = x[1]\n",
    "    K_i = x[2]\n",
    "    gamma = x[3]\n",
    "'''\n",
    "\n",
    "dt = 24/100\n",
    "\n",
    "T_models = {}\n",
    "p_models = {}\n",
    "for key,p in sample_params.items():\n",
    "    alpha1,alpha2,alpha3,n1,n2,n3,K1,K2,K3,gamma1,gamma2,gamma3 = p\n",
    "    pp = [0,5,0] #np.array([0, 5, 0])\n",
    "    p1_list = []\n",
    "    p2_list = []\n",
    "    p3_list = []\n",
    "    for t in range(int(24/dt)):\n",
    "        od = flapjack.gompertz(t*dt, 0.01, 1, 1, 4)\n",
    "        p1_list.append(pp[0]*od)\n",
    "        p2_list.append(pp[1]*od)\n",
    "        p3_list.append(pp[2]*od)\n",
    "        for tt in range(10):\n",
    "            growth_rate = flapjack.gompertz_growth_rate((t + tt/10)*dt, 0.01, 1, 1, 4)\n",
    "            pp = step(pp, \n",
    "                     alpha1=alpha1, \n",
    "                     alpha2=alpha2, \n",
    "                     alpha3=alpha3, \n",
    "                     gamma1=gamma1, \n",
    "                     gamma2=gamma2, \n",
    "                     gamma3=gamma3,\n",
    "                     K1=K1, \n",
    "                     K2=K2, \n",
    "                     K3=K3, \n",
    "                     n1=n1, \n",
    "                     n2=n2,\n",
    "                     n3=n3,\n",
    "                     growth_rate=growth_rate, dt=dt/10)\n",
    "    p1 = np.array(p1_list)\n",
    "    p2 = np.array(p2_list)\n",
    "    p3 = np.array(p3_list)\n",
    "    p_model = np.stack([p1,p2,p3]).transpose()\n",
    "    p_models[key] = p_model\n",
    "\n",
    "    pks_model = find_peaks(p_model[:,0], height=0.1*p_model[:,0].max())[0]\n",
    "    if len(pks_model)>2:\n",
    "        T_model = dt * np.diff(pks_model).mean()\n",
    "    else:\n",
    "        T_model = np.nan\n",
    "    T_models[key] = T_model"
   ]
  },
  {
   "cell_type": "markdown",
   "metadata": {},
   "source": [
    "### Test the repressilator designs"
   ]
  },
  {
   "cell_type": "code",
   "execution_count": null,
   "metadata": {},
   "outputs": [],
   "source": [
    "\n",
    "def step_repressilator(alpha1, alpha2, alpha3): \n",
    "    def func(p, signal, growth_rate, dt):\n",
    "        nextp = step(p, alpha1, alpha2, alpha3, 1, 1, 1, 1, 2, 2, 2, growth_rate, dt)\n",
    "        return nextp\n",
    "    return func\n",
    "\n",
    "alphas = [1e3]\n",
    "study_name = 'Simulated repressilators 10'\n",
    "for alpha1_true in alphas:\n",
    "    for alpha2_true in alphas:\n",
    "        for alpha3_true in alphas:\n",
    "            assay_name = f'alpha1={alpha1_true}, alpha2={alpha2_true}, alpha3={alpha3_true}'\n",
    "            sim = flapjack.Simulator(\n",
    "                    study_name=study_name,\n",
    "                    assay_name=assay_name,\n",
    "                    study_description='Simulation of repressilators',\n",
    "                    assay_description='Replicate 2',\n",
    "                    dna_name='pRPR',\n",
    "                    init_proteins=[0,5,0],\n",
    "                    concentrations=[0],\n",
    "                    n_signals=3,\n",
    "                    fluo_noise=0.01,\n",
    "                    od_noise=0.01\n",
    "                )\n",
    "            sim.create_meta_objects(fj)\n",
    "            sim.create_data(fj, step_repressilator(alpha1_true, alpha2_true, alpha3_true), 1, 200, 24/100, 10)"
   ]
  },
  {
   "cell_type": "code",
   "execution_count": null,
   "metadata": {},
   "outputs": [],
   "source": [
    "signal = fj.get('signal', name=f'SFP{3}')\n",
    "signal"
   ]
  },
  {
   "cell_type": "code",
   "execution_count": null,
   "metadata": {},
   "outputs": [],
   "source": [
    "assay_name = f'alpha1={alphas[0]}, alpha2={alphas[0]}, alpha3={alphas[0]}'\n",
    "assay = fj.get('assay', name='assay_name')\n",
    "assay"
   ]
  },
  {
   "cell_type": "code",
   "execution_count": null,
   "metadata": {},
   "outputs": [],
   "source": [
    "dt = 24/100\n",
    "K1 = 1\n",
    "K2 = 1\n",
    "K3 = 1\n",
    "n1 = 2\n",
    "n2 = 2\n",
    "n3 = 2\n",
    "T_trues = {}\n",
    "p_trues = {}\n",
    "for key,p in sample_params.items():\n",
    "    pp = [0,5,0] #np.array([0, 5, 0])\n",
    "    p1_list = []\n",
    "    p2_list = []\n",
    "    p3_list = []\n",
    "    alpha1,gamma1,alpha2,gamma2,alpha3,gamma3 = key\n",
    "    for t in range(int(24/dt)):\n",
    "        od = flapjack.gompertz(t*dt, 0.01, 1, 1, 4)\n",
    "        p1_list.append(pp[0]*od)\n",
    "        p2_list.append(pp[1]*od)\n",
    "        p3_list.append(pp[2]*od)\n",
    "        for tt in range(10):\n",
    "            growth_rate = flapjack.gompertz_growth_rate((t + tt/10)*dt, 0.01, 1, 1, 4)\n",
    "            pp = step(pp, \n",
    "                     alpha1=alpha1, \n",
    "                     alpha2=alpha2, \n",
    "                     alpha3=alpha3, \n",
    "                     gamma1=gamma1, \n",
    "                     gamma2=gamma2, \n",
    "                     gamma3=gamma3, \n",
    "                     K1=K1, \n",
    "                     K2=K2, \n",
    "                     K3=K3, \n",
    "                     n1=n1, \n",
    "                     n2=n2,\n",
    "                     n3=n3,\n",
    "                     growth_rate=growth_rate, dt=dt/10)\n",
    "    p1 = np.array(p1_list)\n",
    "    p2 = np.array(p2_list)\n",
    "    p3 = np.array(p3_list)\n",
    "    p_true = np.stack([p1,p2,p3]).transpose()\n",
    "    p_trues[key] = p_true\n",
    "    pks_true = find_peaks(p_true[:,0], height=0.1*p_true[:,0].max())[0]\n",
    "    if len(pks_true)>2:\n",
    "        T_true = dt * np.diff(pks_true).mean()\n",
    "    else:\n",
    "        T_true = np.nan\n",
    "    T_trues[key] = T_true"
   ]
  },
  {
   "cell_type": "code",
   "execution_count": null,
   "metadata": {},
   "outputs": [],
   "source": [
    "#error = np.array(p_trues) - np.array(p_models)"
   ]
  },
  {
   "cell_type": "markdown",
   "metadata": {},
   "source": [
    "### Calculate the error in our estimate"
   ]
  },
  {
   "cell_type": "markdown",
   "metadata": {},
   "source": [
    "Error in oscillation periods:"
   ]
  },
  {
   "cell_type": "code",
   "execution_count": null,
   "metadata": {},
   "outputs": [],
   "source": [
    "error = np.array(list(T_trues.values())) - np.array(list(T_models.values()))\n",
    "\n",
    "rmse = np.sqrt(np.nanmean(error**2)) \n",
    "print(f'RMSE = {rmse}')\n",
    "\n",
    "nrmse = np.sqrt(np.nanmean(error**2)) / np.nanmean(list(T_trues.values()))\n",
    "print(f'NRMSE = {nrmse}')\n",
    "\n",
    "mae = np.mean(np.abs(error[~np.isnan(error)]))\n",
    "print(f'Mean absolute error (MAE) = {mae}')\n",
    "\n",
    "msignede = np.nanmean(error)\n",
    "print(f'Mean signed error = {msignede}')"
   ]
  },
  {
   "cell_type": "markdown",
   "metadata": {},
   "source": [
    "Error in timeseries:"
   ]
  },
  {
   "cell_type": "code",
   "execution_count": null,
   "metadata": {},
   "outputs": [],
   "source": [
    "error = np.array(list(p_trues.values()) - np.array(list(p_models.values())))\n",
    "\n",
    "rmse = np.sqrt(np.nanmean(error**2)) \n",
    "print(f'RMSE = {rmse}')\n",
    "\n",
    "nrmse = np.sqrt(np.nanmean(error**2)) / np.nanmean(list(p_trues.values()))\n",
    "print(f'NRMSE = {nrmse}')\n",
    "\n",
    "mae = np.mean(np.abs(error[~np.isnan(error)]))\n",
    "print(f'Mean absolute error (MAE) = {mae}')\n",
    "\n",
    "msignede = np.nanmean(error)\n",
    "print(f'Mean signed error = {msignede}')"
   ]
  },
  {
   "cell_type": "markdown",
   "metadata": {},
   "source": [
    "### Plot an example repressilator"
   ]
  },
  {
   "cell_type": "code",
   "execution_count": null,
   "metadata": {},
   "outputs": [],
   "source": [
    "dt = 24/100\n",
    "key = list(sample_params.keys())[25]\n",
    "fig,ax = plt.subplots(1,1, figsize=(7,4))\n",
    "ax.plot(np.arange(100)*dt, p_models[key][:,0], 'r-')\n",
    "ax.plot(np.arange(100)*dt, p_models[key][:,1], 'g-')\n",
    "ax.plot(np.arange(100)*dt, p_models[key][:,2], 'b-')\n",
    "ax.plot(np.arange(100)*dt, p_trues[key][:,0], 'r--+')\n",
    "ax.plot(np.arange(100)*dt, p_trues[key][:,1], 'g--+')\n",
    "ax.plot(np.arange(100)*dt, p_trues[key][:,2], 'b--+')\n",
    "T = T_models[key]\n",
    "T_data = T_trues[key]\n",
    "ax.set_title('$T_{{model}}$ = %0.2g, $T_{{data}}$ = %0.2g'%(T, T_data) if not np.isnan(T) else 'Non-oscillatory')\n",
    "print(key)"
   ]
  },
  {
   "cell_type": "markdown",
   "metadata": {},
   "source": [
    "### Plot some repressilators"
   ]
  },
  {
   "cell_type": "code",
   "execution_count": null,
   "metadata": {},
   "outputs": [],
   "source": [
    "fig,axs = plt.subplots(4, 4, figsize=(7,4))\n",
    "axs = axs.ravel()\n",
    "keys = list(sample_params.keys())\n",
    "for idx,i in enumerate(np.random.randint(len(keys), size=(16,))):\n",
    "    k = keys[i]\n",
    "    ax = axs[idx]\n",
    "    ax.plot(np.arange(100)*dt, p_models[k][:,0], 'r-', linewidth=1)\n",
    "    ax.plot(np.arange(100)*dt, p_models[k][:,1], 'g-', linewidth=1)\n",
    "    ax.plot(np.arange(100)*dt, p_models[k][:,2], 'b-', linewidth=1)\n",
    "    ax.plot(np.arange(100)*dt, p_trues[k][:,0], 'r--', linewidth=1)\n",
    "    ax.plot(np.arange(100)*dt, p_trues[k][:,1], 'g--', linewidth=1)\n",
    "    ax.plot(np.arange(100)*dt, p_trues[k][:,2], 'b--', linewidth=1)\n",
    "    ax.set_xticks([])\n",
    "    ax.set_yticks([])\n",
    "    #ax.set_title(k)\n",
    "plt.tight_layout()\n",
    "plt.savefig('repressilator_dynamics.png', dpi=300)"
   ]
  },
  {
   "cell_type": "code",
   "execution_count": null,
   "metadata": {},
   "outputs": [],
   "source": [
    "T_true_vals = np.array(list(T_trues.values()))\n",
    "T_model_vals = np.array(list(T_models.values()))\n",
    "plt.plot(T_true_vals, T_model_vals, '+', markersize=14)\n",
    "plt.plot([2,6], [2,6], 'k--')\n",
    "plt.xlabel('Period (data)')\n",
    "plt.ylabel('Period (fitted model)')\n",
    "\n",
    "plt.figure()\n",
    "idx = np.where(~np.isnan(T_true_vals*T_model_vals)) \n",
    "hist,xedges,yedges = np.histogram2d(T_true_vals[idx], T_model_vals[idx], bins=16)\n",
    "#plt.hist2d(T_true_vals[idx], T_model_vals[idx], (16, 16), cmap=plt.cm.jet);\n",
    "plt.imshow(hist)\n",
    "plt.xticks(ticks=np.arange(16), labels=np.round(xedges, 1))\n",
    "plt.yticks(yedges)\n",
    "plt.colorbar()"
   ]
  },
  {
   "cell_type": "code",
   "execution_count": null,
   "metadata": {},
   "outputs": [],
   "source": [
    "T = list(T_trues.values())\n",
    "true_oscillators = np.where(~np.isnan(T))[0]"
   ]
  },
  {
   "cell_type": "code",
   "execution_count": null,
   "metadata": {},
   "outputs": [],
   "source": [
    "T = list(T_models.values())\n",
    "model_oscillators = np.where(~np.isnan(T))[0]"
   ]
  },
  {
   "cell_type": "code",
   "execution_count": null,
   "metadata": {},
   "outputs": [],
   "source": [
    "len(true_oscillators)"
   ]
  },
  {
   "cell_type": "code",
   "execution_count": null,
   "metadata": {},
   "outputs": [],
   "source": [
    "true_oscillators == model_oscillators"
   ]
  },
  {
   "cell_type": "code",
   "execution_count": null,
   "metadata": {},
   "outputs": [],
   "source": [
    "false_positives = set(model_oscillators).difference(true_oscillators)\n",
    "len(false_positives)"
   ]
  },
  {
   "cell_type": "code",
   "execution_count": null,
   "metadata": {},
   "outputs": [],
   "source": [
    "false_negatives = set(true_oscillators).difference(model_oscillators)\n",
    "len(false_negatives)"
   ]
  },
  {
   "cell_type": "code",
   "execution_count": null,
   "metadata": {},
   "outputs": [],
   "source": []
  }
 ],
 "metadata": {
  "kernelspec": {
   "display_name": "Python 3",
   "language": "python",
   "name": "python3"
  },
  "language_info": {
   "codemirror_mode": {
    "name": "ipython",
    "version": 3
   },
   "file_extension": ".py",
   "mimetype": "text/x-python",
   "name": "python",
   "nbconvert_exporter": "python",
   "pygments_lexer": "ipython3",
   "version": "3.8.3"
  }
 },
 "nbformat": 4,
 "nbformat_minor": 4
}

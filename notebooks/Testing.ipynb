{
 "cells": [
  {
   "cell_type": "code",
   "execution_count": null,
   "metadata": {},
   "outputs": [],
   "source": [
    "import flapjack\n",
    "from flapjack import Flapjack\n",
    "import pandas as pd\n",
    "import numpy as np\n",
    "import plotly.express as px\n",
    "import plotly.graph_objects as go\n",
    "import matplotlib.pyplot as plt"
   ]
  },
  {
   "cell_type": "markdown",
   "metadata": {},
   "source": [
    "## Connecting to Flapjack"
   ]
  },
  {
   "cell_type": "code",
   "execution_count": null,
   "metadata": {},
   "outputs": [],
   "source": [
    "fj = Flapjack(url_base='localhost:8000')\n",
    "fj.log_in(username='tim', password='chicken')"
   ]
  },
  {
   "cell_type": "code",
   "execution_count": null,
   "metadata": {},
   "outputs": [],
   "source": [
    "fj.get('sample')"
   ]
  },
  {
   "cell_type": "code",
   "execution_count": null,
   "metadata": {},
   "outputs": [],
   "source": [
    "fj.patch('sample', 3, supplements=[1])"
   ]
  },
  {
   "cell_type": "markdown",
   "metadata": {},
   "source": [
    "## Query Flapjack by filtering and searching"
   ]
  },
  {
   "cell_type": "code",
   "execution_count": null,
   "metadata": {},
   "outputs": [],
   "source": [
    "study = fj.get('study', search='Phase')\n",
    "assay = fj.get('assay', study=study.id[0])\n",
    "sample = fj.get('sample', assay=assay.id[0])\n",
    "chems = fj.get('chemical', sample=sample.id[0])\n",
    "media = fj.get('media', search='glucosa')\n",
    "\n",
    "od = fj.get('signal', name='OD')\n",
    "cfp = fj.get('signal', search='CFP')\n",
    "\n",
    "dna = fj.get('dna')\n",
    "\n",
    "measurement = fj.get('measurement', sample=sample.id[10])"
   ]
  },
  {
   "cell_type": "code",
   "execution_count": null,
   "metadata": {},
   "outputs": [],
   "source": [
    "study"
   ]
  },
  {
   "cell_type": "code",
   "execution_count": null,
   "metadata": {},
   "outputs": [],
   "source": [
    "assay"
   ]
  },
  {
   "cell_type": "code",
   "execution_count": null,
   "metadata": {},
   "outputs": [],
   "source": [
    "sample"
   ]
  },
  {
   "cell_type": "code",
   "execution_count": null,
   "metadata": {},
   "outputs": [],
   "source": [
    "measurement"
   ]
  },
  {
   "cell_type": "code",
   "execution_count": null,
   "metadata": {},
   "outputs": [],
   "source": [
    "fig = px.scatter(measurement, x='time', y='value', color='signal')\n",
    "fig.show()\n",
    "print(len(sample.id))\n",
    "measurement['sample'].unique()"
   ]
  },
  {
   "cell_type": "code",
   "execution_count": null,
   "metadata": {},
   "outputs": [],
   "source": [
    "chemical = fj.get('chemical', pubchemid=12345)\n",
    "chemical"
   ]
  },
  {
   "cell_type": "markdown",
   "metadata": {},
   "source": [
    "## Plot the data"
   ]
  },
  {
   "cell_type": "code",
   "execution_count": null,
   "metadata": {},
   "outputs": [],
   "source": [
    "fig = fj.plot(assay=assay.id,\n",
    "                    media=media.id,\n",
    "                    normalize='None', \n",
    "                    subplots='Signal', \n",
    "                    markers='Vector', \n",
    "                    plot='Mean')"
   ]
  },
  {
   "cell_type": "code",
   "execution_count": null,
   "metadata": {},
   "outputs": [],
   "source": [
    "fig.show()"
   ]
  },
  {
   "cell_type": "markdown",
   "metadata": {},
   "source": [
    "## Analyse the data and plot the result"
   ]
  },
  {
   "cell_type": "code",
   "execution_count": null,
   "metadata": {},
   "outputs": [],
   "source": [
    "fig = fj.plot(assay=assay.id,\n",
    "                    media=media.id, \n",
    "                    type='Mean Expression',\n",
    "                    biomass_signal=od.id,\n",
    "                    ref_signal=cfp.id,\n",
    "                    #bg_correction=2,\n",
    "                    #min_biomass=0.05,\n",
    "                    #remove_data=False,\n",
    "                    normalize='None', \n",
    "                    subplots='Signal', \n",
    "                    markers='Vector', \n",
    "                    plot='Mean')"
   ]
  },
  {
   "cell_type": "code",
   "execution_count": null,
   "metadata": {},
   "outputs": [],
   "source": [
    "fig.show()"
   ]
  },
  {
   "cell_type": "markdown",
   "metadata": {},
   "source": [
    "## Analyze the data and get a dataframe of the result"
   ]
  },
  {
   "cell_type": "code",
   "execution_count": null,
   "metadata": {},
   "outputs": [],
   "source": [
    "df = fj.analysis(assay=[assay.id[0]],\n",
    "                    media=media.id, \n",
    "                    type='Alpha',\n",
    "                    biomass_signal=od.id,\n",
    "                    ref_signal=cfp.id,\n",
    "                    #bg_correction=2,\n",
    "                    #min_biomass=0.05,\n",
    "                    #remove_data=False\n",
    "                      )\n"
   ]
  },
  {
   "cell_type": "markdown",
   "metadata": {},
   "source": [
    "### Custom plot the results"
   ]
  },
  {
   "cell_type": "code",
   "execution_count": null,
   "metadata": {},
   "outputs": [],
   "source": [
    "px.bar(df, x='Vector', y='Alpha', facet_col='Signal')"
   ]
  },
  {
   "cell_type": "markdown",
   "metadata": {},
   "source": [
    "### Statistical analysis of the results (TO DO)"
   ]
  },
  {
   "cell_type": "markdown",
   "metadata": {},
   "source": [
    "## Compute an induction curve and fit a model"
   ]
  },
  {
   "cell_type": "code",
   "execution_count": null,
   "metadata": {},
   "outputs": [],
   "source": [
    "dna = fj.get('dna', name='CcaT')\n",
    "vector = fj.get('vector', dnas=dna.id)\n",
    "chemical = fj.get('chemical', name='IPTG')\n",
    "biomass_signal = fj.get('signal', name='OD')\n",
    "\n",
    "df = fj.analysis(vector=vector.id,\n",
    "                 analyte=chemical.id,\n",
    "                 type='Induction Curve',\n",
    "                 function='Mean Expression',\n",
    "                 biomass_signal=biomass_signal.id\n",
    "                )"
   ]
  },
  {
   "cell_type": "markdown",
   "metadata": {},
   "source": [
    "### Fit a model to the data\n",
    "The fit_curve function is a convenient wrapper for SciPy's curve_fit function. Here you may pass optional keyword arguments (such as p0, bounds) to curve_fit (see https://docs.scipy.org/doc/scipy/reference/generated/scipy.optimize.curve_fit.html). The function returns the fitted parameters and the estimated standard deviation.\n",
    "\n",
    "Flapjack provides several common functions such as the Hill function used here, but you may specify any function just as with curve_fit. The parameters x and y are the columns that are used for the x and y values to fit the function."
   ]
  },
  {
   "cell_type": "code",
   "execution_count": null,
   "metadata": {},
   "outputs": [],
   "source": [
    "data = df[df.Signal=='Turquoise'][df.Vector=='CcaT+TMA5']\n",
    "params,std = flapjack.fit_curve(flapjack.hill, data, x='Concentration', y='Expression')"
   ]
  },
  {
   "cell_type": "code",
   "execution_count": null,
   "metadata": {},
   "outputs": [],
   "source": [
    "print(params)\n",
    "print(std)"
   ]
  },
  {
   "cell_type": "markdown",
   "metadata": {},
   "source": [
    "### Plot the result of the fit"
   ]
  },
  {
   "cell_type": "code",
   "execution_count": null,
   "metadata": {
    "scrolled": true
   },
   "outputs": [],
   "source": [
    "data.plot(x='Concentration', y='Expression', label='CcaT+TMA5', style='+', logx=True)\n",
    "x = np.logspace(-6,-3,100)\n",
    "y = flapjack.hill(x, *params)\n",
    "plt.plot(x, y, 'k--')"
   ]
  },
  {
   "cell_type": "markdown",
   "metadata": {},
   "source": [
    "## Connecting to SynbioHub"
   ]
  },
  {
   "cell_type": "code",
   "execution_count": null,
   "metadata": {},
   "outputs": [],
   "source": [
    "from sbol import *\n",
    "\n",
    "dna = fj.get('dna', name='pAAA')\n",
    "sboluri = dna.sboluri\n",
    "\n",
    "synbiohub = PartShop('https://synbiohub.org')\n",
    "doc = Document()\n",
    "synbiohub.pull(sboluri, doc)"
   ]
  },
  {
   "cell_type": "markdown",
   "metadata": {},
   "source": [
    "## Creating new studies and associated assays"
   ]
  },
  {
   "cell_type": "markdown",
   "metadata": {},
   "source": [
    "### Create a new study"
   ]
  },
  {
   "cell_type": "code",
   "execution_count": null,
   "metadata": {},
   "outputs": [],
   "source": [
    "study = fj.create('study', name='Another test study', description='Testing the API again')\n",
    "study"
   ]
  },
  {
   "cell_type": "markdown",
   "metadata": {},
   "source": [
    "### Modify the study"
   ]
  },
  {
   "cell_type": "code",
   "execution_count": null,
   "metadata": {},
   "outputs": [],
   "source": [
    "study = fj.patch('study', study.id[0], name='Changed name')"
   ]
  },
  {
   "cell_type": "code",
   "execution_count": null,
   "metadata": {},
   "outputs": [],
   "source": [
    "study"
   ]
  },
  {
   "cell_type": "markdown",
   "metadata": {},
   "source": [
    "### Add an assay to the study"
   ]
  },
  {
   "cell_type": "code",
   "execution_count": null,
   "metadata": {},
   "outputs": [],
   "source": [
    "assay = fj.create('assay',\n",
    "                  name='Test',\n",
    "                  description='A test',\n",
    "                  machine='Test',\n",
    "                  temperature=12,\n",
    "                  study=study.id[0]\n",
    "                 )\n"
   ]
  },
  {
   "cell_type": "code",
   "execution_count": null,
   "metadata": {},
   "outputs": [],
   "source": [
    "fj.get('assay')"
   ]
  },
  {
   "cell_type": "code",
   "execution_count": null,
   "metadata": {},
   "outputs": [],
   "source": [
    "fj.delete('assay', assay.id[0])"
   ]
  },
  {
   "cell_type": "code",
   "execution_count": null,
   "metadata": {},
   "outputs": [],
   "source": [
    "sample = fj.create('sample', )"
   ]
  },
  {
   "cell_type": "markdown",
   "metadata": {},
   "source": [
    "### Get a DNA and associate it with a vector"
   ]
  },
  {
   "cell_type": "code",
   "execution_count": null,
   "metadata": {},
   "outputs": [],
   "source": [
    "dnas = fj.get('dna', name='TestDNA')\n",
    "vector = fj.create('vector', name='TestVector', dnas=dnas.id)"
   ]
  },
  {
   "cell_type": "code",
   "execution_count": null,
   "metadata": {},
   "outputs": [],
   "source": [
    "vector"
   ]
  },
  {
   "cell_type": "markdown",
   "metadata": {},
   "source": [
    "### Delete the objects we just created"
   ]
  },
  {
   "cell_type": "code",
   "execution_count": null,
   "metadata": {},
   "outputs": [],
   "source": [
    "fj.delete('assay', assay.id[0])"
   ]
  },
  {
   "cell_type": "markdown",
   "metadata": {},
   "source": [
    "This also deletes all the assays, samples and measurements in the study."
   ]
  },
  {
   "cell_type": "code",
   "execution_count": null,
   "metadata": {},
   "outputs": [],
   "source": [
    "fj.get('assay')"
   ]
  },
  {
   "cell_type": "markdown",
   "metadata": {},
   "source": [
    "### Create a signal"
   ]
  },
  {
   "cell_type": "code",
   "execution_count": null,
   "metadata": {},
   "outputs": [],
   "source": [
    "signal = fj.create('signal', name='TestFP', description='A test', color='green')\n",
    "fj.get('signal')"
   ]
  },
  {
   "cell_type": "code",
   "execution_count": null,
   "metadata": {},
   "outputs": [],
   "source": [
    "fj.patch('signal', signal.id[0], name='changed name')"
   ]
  },
  {
   "cell_type": "markdown",
   "metadata": {},
   "source": [
    "### Delete the signal"
   ]
  },
  {
   "cell_type": "code",
   "execution_count": null,
   "metadata": {},
   "outputs": [],
   "source": [
    "fj.delete('signal', signal.id[0])\n",
    "fj.get('signal')"
   ]
  },
  {
   "cell_type": "markdown",
   "metadata": {},
   "source": [
    "## Directly accessing raw measurements"
   ]
  },
  {
   "cell_type": "code",
   "execution_count": null,
   "metadata": {},
   "outputs": [],
   "source": [
    "study = fj.get('study', search='Inducible')\n",
    "vector = fj.get('vector', name='TheDNA2')\n",
    "assay = fj.get('assay')\n",
    "assay"
   ]
  },
  {
   "cell_type": "code",
   "execution_count": null,
   "metadata": {},
   "outputs": [],
   "source": [
    "df = fj.measurements(assay=[4])"
   ]
  },
  {
   "cell_type": "code",
   "execution_count": null,
   "metadata": {},
   "outputs": [],
   "source": [
    "fj.get('media')"
   ]
  },
  {
   "cell_type": "code",
   "execution_count": null,
   "metadata": {},
   "outputs": [],
   "source": [
    "media = fj.get('media', name='Simulated media')\n",
    "strain = fj.get('strain', name='Simulated strain')\n",
    "vector = fj.get('vector', name='pSIM1')\n",
    "study = fj.get('study', name='Inducible promoter simulation')\n",
    "assay = fj.get('assay', name='Simulated inducer 1')\n",
    "sample = fj.create('sample',\n",
    "                        row=1, col=1,\n",
    "                        media=media.id[0],\n",
    "                        strain=strain.id[0],\n",
    "                        vector=vector.id[0],\n",
    "                        assay=assay.id[0],\n",
    "                        supplements=[1]\n",
    "                        )"
   ]
  },
  {
   "cell_type": "code",
   "execution_count": null,
   "metadata": {},
   "outputs": [],
   "source": [
    "fj.delete('media', media.id[0])"
   ]
  },
  {
   "cell_type": "code",
   "execution_count": null,
   "metadata": {},
   "outputs": [],
   "source": [
    "fj.get('study')"
   ]
  },
  {
   "cell_type": "code",
   "execution_count": null,
   "metadata": {},
   "outputs": [],
   "source": []
  }
 ],
 "metadata": {
  "kernelspec": {
   "display_name": "Python 3",
   "language": "python",
   "name": "python3"
  },
  "language_info": {
   "codemirror_mode": {
    "name": "ipython",
    "version": 3
   },
   "file_extension": ".py",
   "mimetype": "text/x-python",
   "name": "python",
   "nbconvert_exporter": "python",
   "pygments_lexer": "ipython3",
   "version": "3.7.7"
  }
 },
 "nbformat": 4,
 "nbformat_minor": 2
}

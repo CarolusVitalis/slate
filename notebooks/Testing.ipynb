{
 "cells": [
  {
   "cell_type": "code",
   "execution_count": null,
   "metadata": {},
   "outputs": [],
   "source": [
    "import requests\n",
    "from requests.exceptions import HTTPError\n",
    "from requests_jwt import JWTAuth\n",
    "import websockets\n",
    "import asyncio\n",
    "import json\n",
    "import plotly\n",
    "from plotly.io import from_json, read_json\n",
    "from tqdm import tqdm\n",
    "import pandas as pd\n",
    "import numpy as np\n",
    "from scipy.optimize import curve_fit\n",
    "import flapjack\n",
    "from flapjack import Flapjack"
   ]
  },
  {
   "cell_type": "code",
   "execution_count": null,
   "metadata": {},
   "outputs": [],
   "source": []
  },
  {
   "cell_type": "code",
   "execution_count": null,
   "metadata": {},
   "outputs": [],
   "source": [
    "fj = Flapjack(url_base='localhost:8000')\n",
    "fj.log_in(username='tim', password='chicken')"
   ]
  },
  {
   "cell_type": "code",
   "execution_count": null,
   "metadata": {},
   "outputs": [],
   "source": [
    "od = fj.query('signal', name='OD')\n",
    "cfp = fj.query('signal', search='CFP')\n",
    "study = fj.query('study')\n",
    "chems = fj.query('chemical', name='')\n",
    "media = fj.query('media', search='glucosa')\n",
    "assay = fj.query('assay')\n",
    "print(assay)"
   ]
  },
  {
   "cell_type": "code",
   "execution_count": null,
   "metadata": {},
   "outputs": [],
   "source": [
    "chemicals = fj.query('chemical', pubchemid=12345)\n",
    "chemicals"
   ]
  },
  {
   "cell_type": "code",
   "execution_count": null,
   "metadata": {},
   "outputs": [],
   "source": [
    "fig = await fj.plot(assay=assay.id,\n",
    "                    media=media.id, \n",
    "                    type='Mean Expression',\n",
    "                    biomass_signal=od.id,\n",
    "                    ref_signal=cfp.id,\n",
    "                    #bg_correction=2,\n",
    "                    #min_biomass=0.05,\n",
    "                    #remove_data=False,\n",
    "                    normalize='None', \n",
    "                    subplots='Signal', \n",
    "                    markers='Vector', \n",
    "                    plot='Mean')"
   ]
  },
  {
   "cell_type": "code",
   "execution_count": null,
   "metadata": {},
   "outputs": [],
   "source": [
    "fig"
   ]
  },
  {
   "cell_type": "code",
   "execution_count": null,
   "metadata": {},
   "outputs": [],
   "source": [
    "dna = fj.query('dna', sboluri='test')\n",
    "dna"
   ]
  },
  {
   "cell_type": "code",
   "execution_count": null,
   "metadata": {},
   "outputs": [],
   "source": [
    "vector = fj.query('vector', dnas=dna.id)\n",
    "for d in vector.dnas:\n",
    "    print(d)\n",
    "    \n",
    "    \n",
    "print(vector.dtypes)\n",
    "print(vector.dtypes['dnas'])\n",
    "vector"
   ]
  },
  {
   "cell_type": "code",
   "execution_count": null,
   "metadata": {},
   "outputs": [],
   "source": [
    "df = await fj.analysis(assay=[assay.id[0]],\n",
    "                    media=media.id, \n",
    "                    type='Alpha',\n",
    "                    biomass_signal=od.id,\n",
    "                    ref_signal=cfp.id,\n",
    "                    #bg_correction=2,\n",
    "                    #min_biomass=0.05,\n",
    "                    #remove_data=False\n",
    "                      )\n"
   ]
  },
  {
   "cell_type": "code",
   "execution_count": null,
   "metadata": {},
   "outputs": [],
   "source": [
    "g = df.groupby('Signal')\n",
    "for signal,gg in g:\n",
    "    gg.groupby('Vector').mean().plot.bar(y='Alpha', style='.', label=signal)"
   ]
  },
  {
   "cell_type": "code",
   "execution_count": null,
   "metadata": {},
   "outputs": [],
   "source": [
    "dna = fj.query('dna', name='CcaT')\n",
    "vector = fj.query('vector', dnas=dna.id)\n",
    "chemical = fj.query('chemical', name='IPTG')\n",
    "biomass_signal = fj.query('signal', name='OD')\n",
    "\n",
    "df = await fj.analysis(vector=vector.id,\n",
    "                 analyte=chemical.id,\n",
    "                 type='Induction Curve',\n",
    "                 function='Mean Expression',\n",
    "                 biomass_signal=biomass_signal.id\n",
    "                )"
   ]
  },
  {
   "cell_type": "code",
   "execution_count": null,
   "metadata": {},
   "outputs": [],
   "source": [
    "len(df)"
   ]
  },
  {
   "cell_type": "code",
   "execution_count": null,
   "metadata": {},
   "outputs": [],
   "source": [
    "from scipy.optimize import curve_fit\n",
    "import matplotlib.pyplot as plt\n",
    "data = df[df.Signal=='Venus'][df.Vector=='CcaT+TMA5']\n",
    "z,std = flapjack.fit_curve(flapjack.hill, data, x='Concentration', y='Expression')"
   ]
  },
  {
   "cell_type": "code",
   "execution_count": null,
   "metadata": {},
   "outputs": [],
   "source": [
    "print(z)\n",
    "print(std)"
   ]
  },
  {
   "cell_type": "code",
   "execution_count": null,
   "metadata": {
    "scrolled": true
   },
   "outputs": [],
   "source": [
    "data.plot(x='Concentration', y='Expression', label='CcaT+TMA5', style='+', logx=True)\n",
    "x = np.logspace(-6,-3,100)\n",
    "y = flapjack.hill(x, *z)\n",
    "plt.plot(x, y, 'k--')\n",
    "plt.ylim([0,20000])"
   ]
  },
  {
   "cell_type": "code",
   "execution_count": null,
   "metadata": {},
   "outputs": [],
   "source": []
  }
 ],
 "metadata": {
  "kernelspec": {
   "display_name": "Python 3",
   "language": "python",
   "name": "python3"
  },
  "language_info": {
   "codemirror_mode": {
    "name": "ipython",
    "version": 3
   },
   "file_extension": ".py",
   "mimetype": "text/x-python",
   "name": "python",
   "nbconvert_exporter": "python",
   "pygments_lexer": "ipython3",
   "version": "3.7.7"
  }
 },
 "nbformat": 4,
 "nbformat_minor": 2
}

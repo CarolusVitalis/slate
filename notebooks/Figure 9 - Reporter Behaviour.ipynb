{
 "cells": [
  {
   "cell_type": "markdown",
   "metadata": {},
   "source": [
    "# Reporter behaviour"
   ]
  },
  {
   "cell_type": "code",
   "execution_count": null,
   "metadata": {},
   "outputs": [],
   "source": [
    "import flapjack\n",
    "from flapjack import Flapjack, layout_print\n",
    "import numpy as np\n",
    "import plotly\n",
    "from plotly.subplots import make_subplots\n",
    "import plotly.graph_objects as go\n",
    "import plotly.io as io\n",
    "import pandas as pd\n",
    "import getpass\n",
    "%matplotlib inline"
   ]
  },
  {
   "cell_type": "code",
   "execution_count": null,
   "metadata": {},
   "outputs": [],
   "source": [
    "user = input()\n",
    "passwd = getpass.getpass()\n",
    "fj = Flapjack('flapjack.rudge-lab.org:8000')\n",
    "fj.log_in(username=user,password=passwd)"
   ]
  },
  {
   "cell_type": "markdown",
   "metadata": {},
   "source": [
    "As well as using the Flapjack webapp (https://github.com/SynBioUC/flapjack_frontend/wiki/Reporter-behaviour), you can obtain the figure 8B using the Flapjack Python package."
   ]
  },
  {
   "cell_type": "markdown",
   "metadata": {},
   "source": [
    "## Figure 9B - Visualising raw data"
   ]
  },
  {
   "cell_type": "code",
   "execution_count": null,
   "metadata": {},
   "outputs": [],
   "source": [
    "study = fj.get('study', name='Reporter behaviour')\n",
    "\n",
    "fig = fj.plot(study=study.id,\n",
    "       normalize='None',\n",
    "       subplots='Signal',\n",
    "       markers='Vector',\n",
    "       plot='Mean')\n",
    "fig"
   ]
  },
  {
   "cell_type": "code",
   "execution_count": null,
   "metadata": {},
   "outputs": [],
   "source": [
    "fig = flapjack.layout_print(fig, width=3.0, height=2.0, font_size=6.)\n",
    "fig"
   ]
  },
  {
   "cell_type": "code",
   "execution_count": null,
   "metadata": {},
   "outputs": [],
   "source": [
    "fname = 'Figure9B.png'\n",
    "io.write_image(fig, fname)"
   ]
  },
  {
   "cell_type": "markdown",
   "metadata": {},
   "source": [
    "## Figure 9C - Growth rate"
   ]
  },
  {
   "cell_type": "code",
   "execution_count": null,
   "metadata": {},
   "outputs": [],
   "source": [
    "area_id = fj.get('signal', name='Area').id\n",
    "\n",
    "fig = fj.plot(study=study.id,\n",
    "             signal=area_id,\n",
    "             type='Expression Rate (direct)',\n",
    "              eps_L=1e-5,\n",
    "              degr=0,\n",
    "              biomass_signal=area_id,\n",
    "              normalize='Mean/std',\n",
    "              subplots='Signal',\n",
    "              markers='Vector',\n",
    "              plot='Mean'\n",
    "             )\n",
    "fig"
   ]
  },
  {
   "cell_type": "code",
   "execution_count": null,
   "metadata": {},
   "outputs": [],
   "source": [
    "fig = flapjack.layout_print(fig, width=2.0, height=1.35, font_size=6.)\n",
    "fig"
   ]
  },
  {
   "cell_type": "code",
   "execution_count": null,
   "metadata": {},
   "outputs": [],
   "source": [
    "fname = 'Figure9C.png'\n",
    "io.write_image(fig, fname)"
   ]
  },
  {
   "cell_type": "markdown",
   "metadata": {},
   "source": [
    "## Figure 9D - Expression rates"
   ]
  },
  {
   "cell_type": "code",
   "execution_count": null,
   "metadata": {},
   "outputs": [],
   "source": [
    "vector_names = ['pCyOFP', 'pmBeRFP', 'psfGFP']\n",
    "vector_ids = [fj.get('vector', name=vec_name).id for vec_name in vector_names]\n",
    "R_id = fj.get('signal', name='R').id\n",
    "G_id = fj.get('signal', name='G').id\n",
    "B_id = fj.get('signal', name='B').id\n",
    "\n",
    "for idx,vec in enumerate(vector_ids):\n",
    "    fig = fj.plot(study=study.id,\n",
    "           vector=vec,\n",
    "           signal=[R_id, G_id, B_id],\n",
    "           type='Expression Rate (direct)',\n",
    "           degr=0,\n",
    "           eps_L=1e-5,\n",
    "           biomass_signal=area_id,\n",
    "           normalize='None',\n",
    "           subplots='Vector',\n",
    "           markers='Signal',\n",
    "           plot='Mean'\n",
    "           )\n",
    "    fig = flapjack.layout_print(fig, width=1.8, height=1.35, font_size=6.)\n",
    "    fname = f\"Figure9D_{vector_names[idx]}.png\"\n",
    "    io.write_image(fig, fname)"
   ]
  }
 ],
 "metadata": {
  "kernelspec": {
   "display_name": "Python 3",
   "language": "python",
   "name": "python3"
  },
  "language_info": {
   "codemirror_mode": {
    "name": "ipython",
    "version": 3
   },
   "file_extension": ".py",
   "mimetype": "text/x-python",
   "name": "python",
   "nbconvert_exporter": "python",
   "pygments_lexer": "ipython3",
   "version": "3.8.5"
  }
 },
 "nbformat": 4,
 "nbformat_minor": 4
}

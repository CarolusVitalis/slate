{
 "cells": [
  {
   "cell_type": "markdown",
   "metadata": {},
   "source": [
    "# Analysis of context effects on synthetic gene expression dynamics\n",
    "\n",
    "In this example we study the effects of compositional context on gene expression by flipping RFP and YFP TUs from the pAAA plasmid. See paper (https://www.biorxiv.org/content/10.1101/590299v1) for details of plasmid composition. \n",
    "\n",
    "First lets import the packages that we need, including the Flapjack API, and set some parameters for plotting with matplotlib:"
   ]
  },
  {
   "cell_type": "code",
   "execution_count": null,
   "metadata": {},
   "outputs": [],
   "source": [
    "import flapjack\n",
    "from flapjack import Flapjack\n",
    "import numpy as np\n",
    "import matplotlib\n",
    "from matplotlib import pyplot as plt\n",
    "import plotly\n",
    "import plotly.express as px\n",
    "from plotly.subplots import make_subplots\n",
    "import plotly.graph_objects as go\n",
    "import plotly.io as io\n",
    "import json\n",
    "import pandas as pd\n",
    "import seaborn as sns\n",
    "import getpass\n",
    "%matplotlib inline\n",
    "\n",
    "SMALL_SIZE = 6\n",
    "MEDIUM_SIZE = 10\n",
    "BIGGER_SIZE = 12\n",
    "\n",
    "plt.rc('font', size=SMALL_SIZE)          # controls default text sizes\n",
    "plt.rc('axes', titlesize=SMALL_SIZE)     # fontsize of the axes title\n",
    "plt.rc('axes', labelsize=SMALL_SIZE)    # fontsize of the x and y labels\n",
    "plt.rc('xtick', labelsize=SMALL_SIZE)    # fontsize of the tick labels\n",
    "plt.rc('ytick', labelsize=SMALL_SIZE)    # fontsize of the tick labels\n",
    "plt.rc('legend', fontsize=SMALL_SIZE)    # legend fontsize\n",
    "plt.rc('figure', titlesize=SMALL_SIZE)  # fontsize of the figure title\n",
    "\n",
    "io.orca.shutdown_server()"
   ]
  },
  {
   "cell_type": "markdown",
   "metadata": {},
   "source": [
    "We login to the API"
   ]
  },
  {
   "cell_type": "code",
   "execution_count": null,
   "metadata": {},
   "outputs": [],
   "source": [
    "user = input()\n",
    "passwd = getpass.getpass()\n",
    "fj = Flapjack('flapjack.rudge-lab.org:8000')\n",
    "fj.log_in(username=user, password=passwd)"
   ]
  },
  {
   "cell_type": "markdown",
   "metadata": {},
   "source": [
    "## Figure 6 - pAAA and pAAAF Expression rate\n",
    "\n",
    "As well as using the Flapjack webapp (https://github.com/SynBioUC/flapjack_frontend/wiki/Context-effects-on-gene-expression-dynamics), you can obtain the figure 6 using the Flapjack Python package."
   ]
  },
  {
   "cell_type": "code",
   "execution_count": null,
   "metadata": {},
   "outputs": [],
   "source": [
    "study = fj.get('study', name='Context effects')\n",
    "od = fj.get('signal', name='OD')\n",
    "vector_names = ['pAAA', 'pAAAF']\n",
    "vector_ids = [fj.get('vector', name=vector_name).id for vector_name in vector_names]\n",
    "media_id = fj.get('media', name='M9-glucose').id\n",
    "strain_id = fj.get('strain', name='MG1655z1').id"
   ]
  },
  {
   "cell_type": "code",
   "execution_count": null,
   "metadata": {},
   "outputs": [],
   "source": [
    "for idx, vector_id in enumerate(vector_ids):\n",
    "    fig = fj.plot(study=study.id,\n",
    "            vector=vector_id,\n",
    "            media=media_id,\n",
    "            strain=strain_id,\n",
    "            type='Expression Rate (direct)',\n",
    "            eps_L=1e-6,\n",
    "            biomass_signal=od.id,\n",
    "            normalize='Mean/std',\n",
    "            subplots='Vector', \n",
    "            markers='Signal', \n",
    "            plot='Mean'\n",
    "           )\n",
    "    fig = flapjack.layout_print(fig, width=3.3, height=1.65, font_size=6.)\n",
    "    fname = '-'.join([str(eps), norm_name, vector_names[idx], '.png'])\n",
    "    io.write_image(fig, fname)"
   ]
  }
 ],
 "metadata": {
  "kernelspec": {
   "display_name": "Python 3",
   "language": "python",
   "name": "python3"
  },
  "language_info": {
   "codemirror_mode": {
    "name": "ipython",
    "version": 3
   },
   "file_extension": ".py",
   "mimetype": "text/x-python",
   "name": "python",
   "nbconvert_exporter": "python",
   "pygments_lexer": "ipython3",
   "version": "3.8.5"
  }
 },
 "nbformat": 4,
 "nbformat_minor": 4
}

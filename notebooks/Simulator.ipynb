{
 "cells": [
  {
   "cell_type": "code",
   "execution_count": null,
   "metadata": {},
   "outputs": [],
   "source": [
    "import flapjack"
   ]
  },
  {
   "cell_type": "code",
   "execution_count": null,
   "metadata": {},
   "outputs": [],
   "source": [
    "fj = flapjack.Flapjack(url_base='localhost:8000')\n",
    "fj.log_in(username='tim', password='chicken')"
   ]
  },
  {
   "cell_type": "code",
   "execution_count": null,
   "metadata": {},
   "outputs": [],
   "source": [
    "def step_receiver(fp, A, alpha_A, K_A, mu, Dt):\n",
    "    # Update protein concs\n",
    "    a = (A/K_A)**2\n",
    "    nextfp = fp + (alpha_A*a/(1 + a) - mu*fp) * Dt\n",
    "    return nextfp"
   ]
  },
  {
   "cell_type": "code",
   "execution_count": null,
   "metadata": {},
   "outputs": [],
   "source": [
    "def step(p, signal, growth_rate, dt): \n",
    "    A = signal\n",
    "    mu = growth_rate\n",
    "    K_A = 1\n",
    "    alpha_A = 1e2\n",
    "    Dt = dt\n",
    "    return step_receiver(p, A, alpha_A, K_A, mu, Dt)"
   ]
  },
  {
   "cell_type": "code",
   "execution_count": null,
   "metadata": {},
   "outputs": [],
   "source": [
    "sim = flapjack.Simulator(\n",
    "    study_name='Receiver simulation',\n",
    "    assay_name='Replicate 1',\n",
    "    study_description='Simulation of signal receiver',\n",
    "    assay_description='Replicate 1',\n",
    "    dna_name='pREC'\n",
    "    \n",
    ")"
   ]
  },
  {
   "cell_type": "code",
   "execution_count": null,
   "metadata": {},
   "outputs": [],
   "source": [
    "sim.create_meta_objects(fj)"
   ]
  },
  {
   "cell_type": "code",
   "execution_count": null,
   "metadata": {},
   "outputs": [],
   "source": [
    "sim.create_data(fj, step, 1, 100, 24/100)"
   ]
  },
  {
   "cell_type": "code",
   "execution_count": null,
   "metadata": {},
   "outputs": [],
   "source": []
  }
 ],
 "metadata": {
  "kernelspec": {
   "display_name": "Python 3",
   "language": "python",
   "name": "python3"
  },
  "language_info": {
   "codemirror_mode": {
    "name": "ipython",
    "version": 3
   },
   "file_extension": ".py",
   "mimetype": "text/x-python",
   "name": "python",
   "nbconvert_exporter": "python",
   "pygments_lexer": "ipython3",
   "version": "3.7.7"
  }
 },
 "nbformat": 4,
 "nbformat_minor": 4
}

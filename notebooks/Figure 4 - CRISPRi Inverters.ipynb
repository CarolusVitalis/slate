{
 "cells": [
  {
   "cell_type": "markdown",
   "metadata": {},
   "source": [
    "# CRISPRi for transcription regulation\n",
    "\n",
    "First import the API and other packages we need:"
   ]
  },
  {
   "cell_type": "code",
   "execution_count": null,
   "metadata": {},
   "outputs": [],
   "source": [
    "from flapjack_api import FlapjackSession, layout_print, load_figures\n",
    "import numpy as np\n",
    "import matplotlib\n",
    "import matplotlib.pyplot as plt\n",
    "import plotly\n",
    "import plotly.express as px\n",
    "from plotly.subplots import make_subplots\n",
    "import plotly.graph_objects as go\n",
    "import plotly.io as io\n",
    "import json\n",
    "import getpass\n",
    "from scipy.optimize import curve_fit\n",
    "import pandas as pd\n",
    "import seaborn as sns\n",
    "import warnings\n",
    "warnings.filterwarnings('ignore')\n",
    "%matplotlib inline"
   ]
  },
  {
   "cell_type": "markdown",
   "metadata": {},
   "source": [
    "Next we connect to Flapjack by creating a session with our login:"
   ]
  },
  {
   "cell_type": "code",
   "execution_count": null,
   "metadata": {},
   "outputs": [],
   "source": [
    "user = 'tim'\n",
    "pwd = getpass.getpass()\n",
    "session = FlapjackSession('http://localhost:8989', user, pwd)"
   ]
  },
  {
   "cell_type": "code",
   "execution_count": null,
   "metadata": {},
   "outputs": [],
   "source": []
  },
  {
   "cell_type": "code",
   "execution_count": null,
   "metadata": {},
   "outputs": [],
   "source": [
    "filters = {\n",
    "          'study':['CRISPRi repression']\n",
    "          }\n",
    "expr_dnas, _ = session.get_dnas(filters)\n",
    "dnas = list(np.unique(expr_dnas['names']))\n",
    "dnas = [d for d in dnas if d not in (['None'], ['CcaT', 'pBM3R1-B2_cyan'],  ['CcaT', 'TMA3'],  ['CcaT', 'StdStd'])]\n",
    "dnas"
   ]
  },
  {
   "cell_type": "markdown",
   "metadata": {},
   "source": [
    "## Plot an induction curve using mean expression"
   ]
  },
  {
   "cell_type": "code",
   "execution_count": null,
   "metadata": {},
   "outputs": [],
   "source": [
    "session = FlapjackSession('http://localhost:8989', user, pwd)\n",
    "filter = { \n",
    "          'study': ['CRISPRi repression'],\n",
    "          'assay': ['RV7 - python', 'RV8 - python', 'RV9 - python'],\n",
    "          'groupby1': 'sample__assay__study__name',\n",
    "          'groupby2': 'name',\n",
    "          'groupby3': 'sample__dna__names',\n",
    "          'dna': dnas,\n",
    "          'measure': 'mean_expression',\n",
    "          'density_name': 'OD',\n",
    "          'inducer': ['IPTG']\n",
    "         }\n",
    "figs,s = session.plot_induction_curve(filter)"
   ]
  },
  {
   "cell_type": "code",
   "execution_count": null,
   "metadata": {},
   "outputs": [],
   "source": [
    "fig = figs['CRISPRi repression']\n",
    "# Layout the figure better for our purposes\n",
    "layout_print(fig, width=4.5, aspect=3.25, font_size=6)\n",
    "\n",
    "fig['layout']['annotations'][0]['text'] = 'Turquoise'\n",
    "fig['layout']['annotations'][1]['text'] = 'OD'\n",
    "fig['layout']['annotations'][2]['text'] = 'Venus'\n",
    "fig.update_yaxes(rangemode='normal')\n",
    "#fig.update_yaxes(range=[0,8e4], row=1, col=1)\n",
    "fig.show()\n",
    "\n",
    "io.write_image(fig, '../Doc/CRISPR_induction_curves.png')\n"
   ]
  },
  {
   "cell_type": "markdown",
   "metadata": {},
   "source": [
    "## Generate a kymograph of gene expression rate at different inducer concentrations\n",
    "\n",
    "In the Flapjack web app select... blah bla... Save the figure as JSON by clicking the button.\n",
    "\n",
    "Now we can load the figure into this notebook by specifying the file location below. We also reformat the figure for pubication requirements and then save it as a PNG at 300 dpi:"
   ]
  },
  {
   "cell_type": "code",
   "execution_count": null,
   "metadata": {},
   "outputs": [],
   "source": [
    "figs = load_figures('../Doc/TMA5_kymograph.json')\n",
    "name_map = {\n",
    "    'CFP': 'Turquoise',\n",
    "    'YFP': 'Venus',\n",
    "    'OD': 'OD'\n",
    "}\n",
    "for name, fig in figs.items():\n",
    "    fig = layout_print(fig, width=6.5/3, aspect=1.5, font_size=6.)\n",
    "    fig.update_traces(colorscale='portland')\n",
    "    fig['layout']['annotations'][0]['text'] = name_map[name]\n",
    "    fig.show()\n",
    "    io.write_image(fig, '../Doc/TMA5_kymo_'+name+'.png')"
   ]
  },
  {
   "cell_type": "markdown",
   "metadata": {},
   "source": [
    "## Analysing induction curves with Flapjack\n",
    "\n",
    "We can get the data of the induction curve, the concentrations of inducer and their corresponding expression level for each reporter, directly from the API. The API also returns us the fitted Hill function parameters."
   ]
  },
  {
   "cell_type": "code",
   "execution_count": null,
   "metadata": {},
   "outputs": [],
   "source": [
    "session = FlapjackSession('http://localhost:8989', user, pwd)\n",
    "filter = { \n",
    "          'study': ['CRISPRi repression'],\n",
    "            'assay': ['RV7 - python', 'RV8 - python', 'RV9 - python'],\n",
    "          'dna': dnas,\n",
    "          'measure': 'mean_expression',\n",
    "          'density_name': 'OD',\n",
    "          'inducer': ['IPTG']\n",
    "         }\n",
    "induction_params = pd.DataFrame()\n",
    "induction_curves = {}\n",
    "for dna in dnas:\n",
    "    filter['dna'] = [dna]\n",
    "    dna_str = '+'.join(dna)\n",
    "    curve,params,s = session.get_induction_curve(filter)\n",
    "    params['dna'] = [dna_str]*3\n",
    "    induction_curves[dna_str] = curve\n",
    "    induction_params = induction_params.append(params)\n",
    "    "
   ]
  },
  {
   "cell_type": "markdown",
   "metadata": {},
   "source": [
    "Here we plot the parameters for each DNA (plasmid) that we got above. We can see that all are severely altered by induction of dCas9."
   ]
  },
  {
   "cell_type": "code",
   "execution_count": null,
   "metadata": {
    "scrolled": false
   },
   "outputs": [],
   "source": [
    "induction_params = induction_params.sort_values('name')\n",
    "\n",
    "print(induction_params.head())\n",
    "\n",
    "# Map the signal names to the protein names\n",
    "name_map = {\n",
    "    'YFP': 'Venus',\n",
    "    'CFP': 'Turquoise',\n",
    "    'OD': 'OD'\n",
    "}\n",
    "\n",
    "subplot_titles = ['a', 'b', 'k', 'n'] + [''] * 8\n",
    "fig = make_subplots(rows=3, \n",
    "                    cols=4, \n",
    "                    vertical_spacing=0.1, \n",
    "                    horizontal_spacing=0.1,\n",
    "                    shared_xaxes=True,\n",
    "                    subplot_titles=subplot_titles\n",
    "                   )\n",
    "col = 1\n",
    "for p in ['a', 'b', 'k', 'n']:\n",
    "    row = 1\n",
    "    for name,data in induction_params.groupby('name'):\n",
    "        error_y = dict(type='data', # value of error bar given in data coordinates\n",
    "                        array=data[p+' std'],\n",
    "                        visible=True)\n",
    "        marker = dict(color='rgb(128,128,128)')\n",
    "        bar = go.Bar(x=data['dna'], \n",
    "                     y=data[p],\n",
    "                     error_y=error_y, \n",
    "                     name=p, \n",
    "                     legendgroup=p,\n",
    "                     marker=marker,\n",
    "                     showlegend=False\n",
    "                    )\n",
    "        fig.add_trace(bar, row=row, col=col)\n",
    "        if col==1:\n",
    "            fig.update_yaxes(title_text=name_map[name], row=row, col=col)\n",
    "        row += 1\n",
    "    col += 1\n",
    "\n",
    "fig = layout_print(fig, width=4.5, aspect=1.5, font_size=6.)\n",
    "fig.show()\n",
    "    "
   ]
  },
  {
   "cell_type": "markdown",
   "metadata": {},
   "source": [
    "## Plot the induction curves from the returned data"
   ]
  },
  {
   "cell_type": "code",
   "execution_count": null,
   "metadata": {},
   "outputs": [],
   "source": [
    "fig,axs = plt.subplots(1,3, figsize=(12,3))\n",
    "fig.suptitle(dna)\n",
    "for dna,curve in induction_curves.items():\n",
    "    i = 0\n",
    "    for name,data in curve.groupby('name'):\n",
    "        ax = axs[i]\n",
    "        ax.plot(np.log10(data['Concentration']), data['Expression'], '.')\n",
    "        ax.set_title(name)\n",
    "        i += 1\n",
    "    plt.tight_layout()\n",
    "plt.legend(induction_curves.keys())"
   ]
  },
  {
   "cell_type": "code",
   "execution_count": null,
   "metadata": {},
   "outputs": [],
   "source": [
    "     "
   ]
  }
 ],
 "metadata": {
  "kernelspec": {
   "display_name": "Python 3",
   "language": "python",
   "name": "python3"
  },
  "language_info": {
   "codemirror_mode": {
    "name": "ipython",
    "version": 3
   },
   "file_extension": ".py",
   "mimetype": "text/x-python",
   "name": "python",
   "nbconvert_exporter": "python",
   "pygments_lexer": "ipython3",
   "version": "3.7.4"
  }
 },
 "nbformat": 4,
 "nbformat_minor": 4
}

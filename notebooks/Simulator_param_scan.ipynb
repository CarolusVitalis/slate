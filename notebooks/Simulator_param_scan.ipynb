{
 "cells": [
  {
   "cell_type": "code",
   "execution_count": null,
   "metadata": {},
   "outputs": [],
   "source": [
    "import flapjack\n",
    "import numpy as np"
   ]
  },
  {
   "cell_type": "code",
   "execution_count": null,
   "metadata": {},
   "outputs": [],
   "source": [
    "fj = flapjack.Flapjack(url_base='localhost:8000')\n",
    "fj.log_in(username='tim', password='chicken')"
   ]
  },
  {
   "cell_type": "code",
   "execution_count": null,
   "metadata": {},
   "outputs": [],
   "source": [
    "def receiver(fp, A, alpha_A, K_A, mu, gamma, Dt):\n",
    "    # Update protein concs\n",
    "    a = (A/K_A)**2\n",
    "    nextfp = fp + (alpha_A*a/(1 + a) - gamma*fp - mu*fp) * Dt\n",
    "    return nextfp\n",
    "\n",
    "def inverter(p_i, fp, alpha_j, K_i, n_i, gamma, mu, Dt):\n",
    "    p = (p_i/K_i)**n_i\n",
    "    nextfp = fp + ( alpha_j / ( 1 + p ) - gamma*fp - mu*fp ) * Dt\n",
    "    return nextfp"
   ]
  },
  {
   "cell_type": "code",
   "execution_count": null,
   "metadata": {},
   "outputs": [],
   "source": [
    "def step_receiver(K_A, alpha_A, gamma): \n",
    "    def func(p, signal, growth_rate, dt):\n",
    "        # p[0] = fluo protein\n",
    "        A = signal\n",
    "        mu = growth_rate\n",
    "        return [receiver(p[0], A, alpha_A, K_A, mu, gamma, dt)]\n",
    "    return func"
   ]
  },
  {
   "cell_type": "code",
   "execution_count": null,
   "metadata": {},
   "outputs": [],
   "source": [
    "def step_inverter(K_A, alpha_A, alpha_j, K_i, n_i, gamma):\n",
    "    def func(p, signal, growth_rate, dt):\n",
    "        # p[0] = fluo protein\n",
    "        # p[1] = repressor\n",
    "\n",
    "        mu = growth_rate\n",
    "        A = signal\n",
    "        \n",
    "        # Receiver makes unstable repressor\n",
    "        next_p1 = receiver(p[1], A, alpha_A, K_A, mu, gamma, dt)\n",
    "\n",
    "        # Inverter makes stable FP\n",
    "        next_p0 = inverter(p[1], p[0], alpha_j, K_i, n_i, mu, 0, dt)\n",
    "\n",
    "        return [next_p0, next_p1]\n",
    "    return func"
   ]
  },
  {
   "cell_type": "code",
   "execution_count": null,
   "metadata": {},
   "outputs": [],
   "source": [
    "def step_double_inverter(K_A, \n",
    "                         alpha_A, \n",
    "                         alpha_j, \n",
    "                         K_i, \n",
    "                         n_i,\n",
    "                         alpha_k,\n",
    "                         K_j,\n",
    "                         n_j,\n",
    "                         gamma): \n",
    "    def func(p, signal, growth_rate, dt):\n",
    "        # p[0] = fluo protein\n",
    "        # p[1] = repressor i\n",
    "        # p[2] = repressor j\n",
    "\n",
    "        mu = growth_rate\n",
    "        A = signal\n",
    "\n",
    "        # Receiver makes unstable repressor i\n",
    "        next_p1 = receiver(p[1], A, alpha_A, K_A, mu, gamma, dt)\n",
    "\n",
    "        # Inverter 1 makes unstable repressor j\n",
    "        next_p2 = inverter(p[1], p[2], alpha_j, K_i, n_i, mu, gamma, dt)\n",
    "\n",
    "        # Inverter 2 makes stable FP\n",
    "        next_p0 = inverter(p[2], p[0], alpha_k, K_j, n_j, mu, 0, dt)\n",
    "\n",
    "        return [next_p0, next_p1, next_p2]\n",
    "    return func"
   ]
  },
  {
   "cell_type": "code",
   "execution_count": null,
   "metadata": {},
   "outputs": [],
   "source": [
    "concs = np.logspace(-6, 6, 24, endpoint=True)"
   ]
  },
  {
   "cell_type": "code",
   "execution_count": null,
   "metadata": {},
   "outputs": [],
   "source": [
    "fj.get('chemical')\n",
    "chemical = fj.get('chemical', name='A')\n",
    "#chemical = fj.create('chemical', name='A', description='Simulated inducer')\n",
    "chemical"
   ]
  },
  {
   "cell_type": "markdown",
   "metadata": {},
   "source": [
    "### Simulate signal receiver"
   ]
  },
  {
   "cell_type": "code",
   "execution_count": null,
   "metadata": {},
   "outputs": [],
   "source": [
    "sim = flapjack.Simulator(\n",
    "    study_name='Receiver simulation alpha scan deg',\n",
    "    assay_name='Receiver 1',\n",
    "    study_description='Simulation of signal receiver',\n",
    "    assay_description='Replicate 1',\n",
    "    dna_name='pREC',\n",
    "    init_proteins=[0],\n",
    "    concentrations=concs\n",
    ")\n",
    "sim.create_meta_objects(fj)\n",
    "K_A = 1\n",
    "alpha_A = 1e2\n",
    "sim.create_data(fj, step_receiver(K_A, alpha_A, 0), 4, 100, 24/100, 10)"
   ]
  },
  {
   "cell_type": "markdown",
   "metadata": {},
   "source": [
    "### Simulate inverter with receiver"
   ]
  },
  {
   "cell_type": "code",
   "execution_count": null,
   "metadata": {},
   "outputs": [],
   "source": [
    "K_i = 1\n",
    "n_i = 2\n",
    "i = 1\n",
    "for gamma in np.linspace(0.5, 2, 3, endpoint=True):\n",
    "    for alpha_j in np.logspace(2, 5, 4, endpoint=True):\n",
    "        sim = flapjack.Simulator(\n",
    "            study_name='TU characterization alpha/gamma scan 2',\n",
    "            assay_name=f'Inverter, alpha_j={alpha_j}, K_i={K_i}, n_i={n_i}, gamma={gamma}',\n",
    "            study_description='Simulation of repressilator TUs',\n",
    "            assay_description='Replicate 1',\n",
    "            dna_name=f'pINV{i}',\n",
    "            init_proteins=[0,0],\n",
    "            concentrations=concs\n",
    "        )\n",
    "        sim.create_meta_objects(fj)\n",
    "        sim.create_data(\n",
    "            fj, \n",
    "            step_inverter(K_A, alpha_A, alpha_j, K_i, n_i, gamma), \n",
    "            4, 100, 24/100, 10\n",
    "        )\n",
    "        i += 1\n",
    "        "
   ]
  },
  {
   "cell_type": "markdown",
   "metadata": {},
   "source": [
    "### Simulate double inverter with receiver"
   ]
  },
  {
   "cell_type": "code",
   "execution_count": null,
   "metadata": {},
   "outputs": [],
   "source": [
    "alpha_k = 1e2\n",
    "K_j = 1\n",
    "n_j = 2\n",
    "gamma = 1\n",
    "\n",
    "for alpha_j in np.logspace(2, 5, 4, endpoint=True):\n",
    "    sim = flapjack.Simulator(\n",
    "        study_name='TU characterization alpha scan deg',\n",
    "        assay_name=f'Double inverter, alpha_j={alpha_j}, K_j={K_j}, n_j={n_j}',\n",
    "        study_description='Simulation of repressilator TUs',\n",
    "        assay_description='Replicate 1',\n",
    "        dna_name='pDINV',\n",
    "        init_proteins=[0,0,0],\n",
    "        concentrations=concs\n",
    "    )\n",
    "    sim.create_meta_objects(fj)\n",
    "    step = step_double_inverter(\n",
    "        K_A, alpha_A,\n",
    "        alpha_j, K_i, n_i,\n",
    "        alpha_k, K_j, n_j,\n",
    "        gamma\n",
    "    )\n",
    "    sim.create_data(fj, step, 4, 200, 24/100, 10)"
   ]
  },
  {
   "cell_type": "code",
   "execution_count": null,
   "metadata": {},
   "outputs": [],
   "source": []
  },
  {
   "cell_type": "code",
   "execution_count": null,
   "metadata": {},
   "outputs": [],
   "source": []
  }
 ],
 "metadata": {
  "kernelspec": {
   "display_name": "Python 3",
   "language": "python",
   "name": "python3"
  },
  "language_info": {
   "codemirror_mode": {
    "name": "ipython",
    "version": 3
   },
   "file_extension": ".py",
   "mimetype": "text/x-python",
   "name": "python",
   "nbconvert_exporter": "python",
   "pygments_lexer": "ipython3",
   "version": "3.7.7"
  }
 },
 "nbformat": 4,
 "nbformat_minor": 4
}

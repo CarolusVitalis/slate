{
 "cells": [
  {
   "cell_type": "markdown",
   "metadata": {},
   "source": [
    "# Analysis of cell-free synthetic gene expression"
   ]
  },
  {
   "cell_type": "code",
   "execution_count": null,
   "metadata": {},
   "outputs": [],
   "source": [
    "import flapjack\n",
    "from flapjack import Flapjack, layout_print\n",
    "import numpy as np\n",
    "import plotly\n",
    "from plotly.subplots import make_subplots\n",
    "import plotly.graph_objects as go\n",
    "import plotly.io as io\n",
    "import pandas as pd\n",
    "import getpass\n",
    "%matplotlib inline"
   ]
  },
  {
   "cell_type": "code",
   "execution_count": null,
   "metadata": {},
   "outputs": [],
   "source": [
    "user = input()\n",
    "passwd = getpass.getpass()\n",
    "fj = Flapjack('flapjack.rudge-lab.org:8000')\n",
    "fj.log_in(username=user, password=passwd)"
   ]
  },
  {
   "cell_type": "markdown",
   "metadata": {},
   "source": [
    "## Figure 8B - Visualising raw data"
   ]
  },
  {
   "cell_type": "markdown",
   "metadata": {},
   "source": [
    "As well as using the Flapjack webapp (https://github.com/SynBioUC/flapjack_frontend/wiki/CFPS-of-CFP-YFP-variants), you can obtain the figure 8B using the Flapjack Python package."
   ]
  },
  {
   "cell_type": "code",
   "execution_count": null,
   "metadata": {},
   "outputs": [],
   "source": [
    "study_id = fj.get('study', name='CFPS of CFP YFP variants').id\n",
    "media_id = fj.get('media', name='E1').id\n",
    "\n",
    "fig = fj.plot(study=study_id,\n",
    "             media=media_id,\n",
    "             normalize='None',\n",
    "             subplots='Signal',\n",
    "             markers='Vector',\n",
    "             plot='Mean +/- std')\n",
    "fig"
   ]
  },
  {
   "cell_type": "code",
   "execution_count": null,
   "metadata": {},
   "outputs": [],
   "source": [
    "# Modify width and size (optional)\n",
    "fig = flapjack.layout_print(fig, width=2, height=2, font_size=6)\n",
    "fig.layout.annotations[0].text='CFP channel'\n",
    "fig.layout.annotations[1].text='YFP channel'\n",
    "fig"
   ]
  },
  {
   "cell_type": "code",
   "execution_count": null,
   "metadata": {},
   "outputs": [],
   "source": [
    "fname = 'Figure8B.png'\n",
    "io.write_image(fig, fname)"
   ]
  },
  {
   "cell_type": "markdown",
   "metadata": {},
   "source": [
    "## Figure 8C - Computing and plotting reaction velocity\n",
    "Reaction velocity is the first derivative of fluorescence (a time series).\n",
    "As well as using the Flapjack webapp (https://github.com/SynBioUC/flapjack_frontend/wiki/CFPS-of-CFP-YFP-variants), you can obtain figure 8C using the Flapjack Python package."
   ]
  },
  {
   "cell_type": "markdown",
   "metadata": {},
   "source": [
    "### CFP"
   ]
  },
  {
   "cell_type": "code",
   "execution_count": null,
   "metadata": {},
   "outputs": [],
   "source": [
    "study = fj.get('study', name='CFPS of CFP YFP variants')\n",
    "vector_cfp_names = ['pCFP', 'pdeCFP']\n",
    "vector_cfp_ids = [fj.get('vector', name=vec_name).id for vec_name in vector_cfp_names]\n",
    "vector_yfp_names = ['pYFP', 'pdeYFP']\n",
    "vector_yfp_ids = [fj.get('vector', name=vec_name).id for vec_name in vector_yfp_names]\n",
    "cfp_id = fj.get('signal', name='CFP').id\n",
    "yfp_id = fj.get('signal', name='YFP').id"
   ]
  },
  {
   "cell_type": "code",
   "execution_count": null,
   "metadata": {},
   "outputs": [],
   "source": [
    "fig = fj.plot(study=study.id,\n",
    "             vector=vector_cfp_ids,\n",
    "             signal=cfp_id,\n",
    "             type='Velocity',\n",
    "             pre_smoothing=21,\n",
    "             post_smoothing=21,\n",
    "             normalize='Mean/std',\n",
    "             subplots='Media',\n",
    "             markers='Vector',\n",
    "             plot='Mean'\n",
    "             )\n",
    "fig"
   ]
  },
  {
   "cell_type": "code",
   "execution_count": null,
   "metadata": {},
   "outputs": [],
   "source": [
    "fig = flapjack.layout_print(fig, width=3.3, height=1., font_size=6.)\n",
    "fig"
   ]
  },
  {
   "cell_type": "code",
   "execution_count": null,
   "metadata": {},
   "outputs": [],
   "source": [
    "fname = 'Figure8C_CFP.png'\n",
    "io.write_image(fig, fname)"
   ]
  },
  {
   "cell_type": "markdown",
   "metadata": {},
   "source": [
    "### YFP"
   ]
  },
  {
   "cell_type": "code",
   "execution_count": null,
   "metadata": {},
   "outputs": [],
   "source": [
    "fig = fj.plot(study=study.id,\n",
    "             vector=vector_yfp_ids,\n",
    "             signal=yfp_id,\n",
    "             type='Velocity',\n",
    "             pre_smoothing=21,\n",
    "             post_smoothing=21,\n",
    "             normalize='Mean/std',\n",
    "             subplots='Media',\n",
    "             markers='Vector',\n",
    "             plot='Mean'\n",
    "             )\n",
    "fig"
   ]
  },
  {
   "cell_type": "code",
   "execution_count": null,
   "metadata": {},
   "outputs": [],
   "source": [
    "fig = flapjack.layout_print(fig, width=3.3, height=1, font_size=6.)\n",
    "fig"
   ]
  },
  {
   "cell_type": "code",
   "execution_count": null,
   "metadata": {},
   "outputs": [],
   "source": [
    "fname = 'Figure8C_YFP.png'\n",
    "io.write_image(fig, fname)"
   ]
  },
  {
   "cell_type": "markdown",
   "metadata": {},
   "source": [
    "## Figure 8D - Analysing reaction velocity\n",
    "To analyse the magnitude of gene expression, we can get the maximum reaction velocity over each time series from the Flapjack API:"
   ]
  },
  {
   "cell_type": "code",
   "execution_count": null,
   "metadata": {},
   "outputs": [],
   "source": [
    "study = fj.get('study', name='CFPS of CFP YFP variants')\n",
    "df = fj.analysis(study=study.id,\n",
    "                 type='Max Velocity',\n",
    "                 pre_smoothing=11,\n",
    "                 post_smoothing=11\n",
    "                )"
   ]
  },
  {
   "cell_type": "markdown",
   "metadata": {},
   "source": [
    "Now we can group this dataframe to make a bar graph showing the maximum velocity in each of the combinations of extract batch and DNA that were tested:"
   ]
  },
  {
   "cell_type": "code",
   "execution_count": null,
   "metadata": {},
   "outputs": [],
   "source": [
    "cols = {\n",
    "    'E1': '#1f77b4', \n",
    "    'E2': '#ff7f0e', \n",
    "    'E3': '#2ca02c'\n",
    "}\n",
    "subplot_titles = ['CFP channel', 'YFP channel']\n",
    "fig = make_subplots(rows=2, \n",
    "                    cols=1, \n",
    "                    vertical_spacing=0.15, \n",
    "                    horizontal_spacing=0.1,\n",
    "                    subplot_titles=subplot_titles\n",
    "                   )\n",
    "row = 1\n",
    "for name,name_data in df.groupby('Signal'):\n",
    "    print(name)\n",
    "    for media,media_data in name_data.groupby('Media'):\n",
    "        grouped_dna = media_data.groupby('Vector')\n",
    "        x = [dna for dna,data in grouped_dna]\n",
    "        y = [data['Velocity'].mean() for dna,data in grouped_dna]        \n",
    "        err_y = [data['Velocity'].std() for dna,data in grouped_dna]        \n",
    "        error_y = dict(type='data', # value of error bar given in data coordinates\n",
    "                        array=err_y,\n",
    "                        visible=True)\n",
    "        bar = go.Bar(x=x, \n",
    "                     y=y,\n",
    "                     error_y=error_y, \n",
    "                     name='Batch '+media, \n",
    "                     legendgroup=media,\n",
    "                     marker=dict(color=cols[media], line=dict(color='rgb(0,0,0)', width=1.)),\n",
    "                     showlegend=row==1\n",
    "                    )\n",
    "\n",
    "        fig.add_trace(bar, row=row, col=1)\n",
    "    row += 1\n",
    "\n",
    "fig.update_yaxes(title_text='Max. velocity', col=1)\n",
    "fig = layout_print(fig, width=3.3, height=3.3, font_size=6.)\n",
    "fig.update_layout(barmode='group')\n",
    "fig.show()\n",
    "    "
   ]
  },
  {
   "cell_type": "code",
   "execution_count": null,
   "metadata": {},
   "outputs": [],
   "source": [
    "fname = 'Figure8D.png'\n",
    "io.write_image(fig, fname)"
   ]
  },
  {
   "cell_type": "code",
   "execution_count": null,
   "metadata": {},
   "outputs": [],
   "source": []
  }
 ],
 "metadata": {
  "kernelspec": {
   "display_name": "Python 3",
   "language": "python",
   "name": "python3"
  },
  "language_info": {
   "codemirror_mode": {
    "name": "ipython",
    "version": 3
   },
   "file_extension": ".py",
   "mimetype": "text/x-python",
   "name": "python",
   "nbconvert_exporter": "python",
   "pygments_lexer": "ipython3",
   "version": "3.8.5"
  }
 },
 "nbformat": 4,
 "nbformat_minor": 2
}

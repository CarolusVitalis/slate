{
 "cells": [
  {
   "cell_type": "markdown",
   "metadata": {},
   "source": [
    "# Analysis of cell-free synthetic gene expression"
   ]
  },
  {
   "cell_type": "code",
   "execution_count": null,
   "metadata": {},
   "outputs": [],
   "source": [
    "from flapjack_api import FlapjackSession, layout_print, load_figures, replace_array_columns\n",
    "import numpy as np\n",
    "import matplotlib\n",
    "import matplotlib.pyplot as plt\n",
    "import plotly\n",
    "import plotly.express as px\n",
    "from plotly.subplots import make_subplots\n",
    "import plotly.graph_objects as go\n",
    "import plotly.io as io\n",
    "import json\n",
    "import getpass\n",
    "from scipy.optimize import curve_fit\n",
    "import pandas as pd\n",
    "import seaborn as sns\n",
    "import warnings\n",
    "warnings.filterwarnings('ignore')\n",
    "%matplotlib inline"
   ]
  },
  {
   "cell_type": "code",
   "execution_count": null,
   "metadata": {},
   "outputs": [],
   "source": [
    "user = 'timrudge'\n",
    "pwd = getpass.getpass()\n",
    "session = FlapjackSession('http://localhost:8989', user, pwd)"
   ]
  },
  {
   "cell_type": "markdown",
   "metadata": {},
   "source": [
    "## Plotting the raw data\n",
    "Go to the Flapjack UI and select the study \"Cell-free...\" (CHANGE NAME). Now choose groupby Assay, Name, DNA and click \"View\". Now you can select \"Figure (print quality)\" to download a formatted PNG file, choosing the width, height and font size. You can also choose \"Figure (JSON)\" to save to a file, and then load the file here for more detailed formatting:"
   ]
  },
  {
   "cell_type": "code",
   "execution_count": null,
   "metadata": {},
   "outputs": [],
   "source": [
    "figs = load_figures('../Doc/cell-free_raw_data.json')\n",
    "fig = figs['CF']\n",
    "fig = layout_print(fig, width=3.3, aspect=3., font_size=6.)\n",
    "fig.show()"
   ]
  },
  {
   "cell_type": "code",
   "execution_count": null,
   "metadata": {},
   "outputs": [],
   "source": [
    "figs = load_figures('../Doc/cell-free_velocity_yfp.json')\n",
    "fig = figs['YFP']\n",
    "fig = layout_print(fig, width=3.5, aspect=3.5, font_size=6.)\n",
    "fig.update_xaxes(title_text='Time (hours)')\n",
    "fig.show()\n",
    "\n",
    "figs = load_figures('../Doc/cell-free_velocity_cfp.json')\n",
    "fig = figs['CFP']\n",
    "fig = layout_print(fig, width=3.5, aspect=3.5, font_size=6.)\n",
    "fig.show()"
   ]
  },
  {
   "cell_type": "markdown",
   "metadata": {},
   "source": [
    "## Computing and plotting reaction velocity\n",
    "Reaction velocity is the first derivative of fluorescence (a time series). It can be plotted by selecting \"Velocity\" from the analysis dropdown. First select the cell-free study in the filter pane. Now you will see below a list of DNAs in the study. First select L1_23A and L1_24A (the YFP expressing plasmids). Select groupby Name, Media, DNA. Select averaging \"Mean +/- std\" and normalization \"Mean/std\" and then click \"Analyse\". Selecting the YFP tab you can see the velocity profiles for each DNA in each cell-free extract batch (media). Similarly, you can plot the CFP expressing DNAs by selecting L1_29A and L1_30A.\n",
    "\n",
    "We can see that the dynamics of each gene are quite similar, but do appear to vary from batch to batch. Here we normalized the traces so we cannot see magnitude differences. In the next section we analyse the variation in magnitude of velocity."
   ]
  },
  {
   "cell_type": "markdown",
   "metadata": {},
   "source": [
    "## Analysing reaction velocity\n",
    "To analyse the magnitude of gene expression, we can get the maximum reaction velocity over each time series from the Flapjack API:"
   ]
  },
  {
   "cell_type": "code",
   "execution_count": null,
   "metadata": {},
   "outputs": [],
   "source": [
    "filter = {\n",
    "    'assay': ['CF'],\n",
    "    'smoothing_type': 'savgol',\n",
    "    'pre_smoothing': '21',\n",
    "    'post_smoothing': '21',\n",
    "}\n",
    "\n",
    "df,s = session.get_max_velocity(filter)\n",
    "df = replace_array_columns(df)"
   ]
  },
  {
   "cell_type": "markdown",
   "metadata": {},
   "source": [
    "Now we can group this dataframe to make a bar graph showing the maximum velocity in each of the combinations of extract batch and DNA that were tested:"
   ]
  },
  {
   "cell_type": "code",
   "execution_count": null,
   "metadata": {},
   "outputs": [],
   "source": [
    "cols = {\n",
    "    'E1': '#1f77b4', \n",
    "    'E2': '#ff7f0e', \n",
    "    'E3': '#2ca02c'\n",
    "}\n",
    "subplot_titles = ['CFP', 'YFP']\n",
    "fig = make_subplots(rows=2, \n",
    "                    cols=1, \n",
    "                    vertical_spacing=0.15, \n",
    "                    horizontal_spacing=0.1,\n",
    "                    subplot_titles=subplot_titles\n",
    "                   )\n",
    "row = 1\n",
    "for name,name_data in df.groupby('name'):\n",
    "    print(name)\n",
    "    for media,media_data in name_data.groupby('sample__media__name'):\n",
    "        grouped_dna = media_data.groupby('sample__dna__names')\n",
    "        x = [dna for dna,data in grouped_dna]\n",
    "        y = [data['value'].mean() for dna,data in grouped_dna]        \n",
    "        err_y = [data['value'].std() for dna,data in grouped_dna]        \n",
    "        error_y = dict(type='data', # value of error bar given in data coordinates\n",
    "                        array=err_y,\n",
    "                        visible=True)\n",
    "        bar = go.Bar(x=x, \n",
    "                     y=y,\n",
    "                     error_y=error_y, \n",
    "                     name='Batch '+media, \n",
    "                     legendgroup=media,\n",
    "                     marker=dict(color=cols[media], line=dict(color='rgb(0,0,0)', width=1.)),\n",
    "                     showlegend=row==1\n",
    "                    )\n",
    "\n",
    "        fig.add_trace(bar, row=row, col=1)\n",
    "    row += 1\n",
    "\n",
    "fig.update_yaxes(title_text='Max. velocity', col=1)\n",
    "fig = layout_print(fig, width=3.3, aspect=1., font_size=6.)\n",
    "fig.update_layout(barmode='group')\n",
    "fig.show()\n",
    "    "
   ]
  },
  {
   "cell_type": "code",
   "execution_count": null,
   "metadata": {},
   "outputs": [],
   "source": []
  }
 ],
 "metadata": {
  "kernelspec": {
   "display_name": "Python 3",
   "language": "python",
   "name": "python3"
  },
  "language_info": {
   "codemirror_mode": {
    "name": "ipython",
    "version": 3
   },
   "file_extension": ".py",
   "mimetype": "text/x-python",
   "name": "python",
   "nbconvert_exporter": "python",
   "pygments_lexer": "ipython3",
   "version": "3.6.10"
  }
 },
 "nbformat": 4,
 "nbformat_minor": 2
}
